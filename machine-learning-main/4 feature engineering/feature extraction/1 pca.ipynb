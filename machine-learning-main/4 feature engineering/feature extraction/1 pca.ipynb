{
 "cells": [
  {
   "cell_type": "code",
   "execution_count": null,
   "metadata": {},
   "outputs": [],
   "source": [
    "#feature extraction pca \n",
    "#to remove unnecessary feature\n",
    "#higher dimentional data to low dimension data with inheritance"
   ]
  },
  {
   "cell_type": "code",
   "execution_count": 71,
   "metadata": {},
   "outputs": [],
   "source": [
    "import numpy as np \n",
    "import pandas as pd\n",
    "\n",
    "import matplotlib.pyplot as plt\n"
   ]
  },
  {
   "cell_type": "code",
   "execution_count": 72,
   "metadata": {},
   "outputs": [],
   "source": [
    "pr = pd.read_csv('mnist.csv')"
   ]
  },
  {
   "cell_type": "code",
   "execution_count": 73,
   "metadata": {},
   "outputs": [
    {
     "data": {
      "text/plain": [
       "<matplotlib.image.AxesImage at 0x1d003001190>"
      ]
     },
     "execution_count": 73,
     "metadata": {},
     "output_type": "execute_result"
    },
    {
     "data": {
      "image/png": "[encoded data removed]",
      "text/plain": [
       "<Figure size 640x480 with 1 Axes>"
      ]
     },
     "metadata": {},
     "output_type": "display_data"
    }
   ],
   "source": [
    "#pr.head()\n",
    "plt.imshow(pr.iloc[2500,1:].values.reshape(28,28))"
   ]
  },
  {
   "cell_type": "code",
   "execution_count": 74,
   "metadata": {},
   "outputs": [],
   "source": [
    "x = pr.iloc[:,1:]\n",
    "y = pr.iloc[:,0]"
   ]
  },
  {
   "cell_type": "code",
   "execution_count": 75,
   "metadata": {},
   "outputs": [],
   "source": [
    "from sklearn.model_selection import train_test_split"
   ]
  },
  {
   "cell_type": "code",
   "execution_count": 76,
   "metadata": {},
   "outputs": [],
   "source": [
    "x_train,x_test,y_train,y_test = train_test_split(x,y,train_size=0.2,random_state=42)"
   ]
  },
  {
   "cell_type": "code",
   "execution_count": 77,
   "metadata": {},
   "outputs": [
    {
     "data": {
      "text/plain": [
       "(2000, 784)"
      ]
     },
     "execution_count": 77,
     "metadata": {},
     "output_type": "execute_result"
    }
   ],
   "source": [
    "x_train.shape"
   ]
  },
  {
   "cell_type": "code",
   "execution_count": 78,
   "metadata": {},
   "outputs": [],
   "source": [
    "from sklearn.neighbors import KNeighborsClassifier\n",
    "\n",
    "knn = KNeighborsClassifier()"
   ]
  },
  {
   "cell_type": "code",
   "execution_count": 79,
   "metadata": {},
   "outputs": [
    {
     "data": {
      "text/html": [
       "<style>#sk-container-id-5 {\n",
       "  /* Definition of color scheme common for light and dark mode */\n",
       "  --sklearn-color-text: #000;\n",
       "  --sklearn-color-text-muted: #666;\n",
       "  --sklearn-color-line: gray;\n",
       "  /* Definition of color scheme for unfitted estimators */\n",
       "  --sklearn-color-unfitted-level-0: #fff5e6;\n",
       "  --sklearn-color-unfitted-level-1: #f6e4d2;\n",
       "  --sklearn-color-unfitted-level-2: #ffe0b3;\n",
       "  --sklearn-color-unfitted-level-3: chocolate;\n",
       "  /* Definition of color scheme for fitted estimators */\n",
       "  --sklearn-color-fitted-level-0: #f0f8ff;\n",
       "  --sklearn-color-fitted-level-1: #d4ebff;\n",
       "  --sklearn-color-fitted-level-2: #b3dbfd;\n",
       "  --sklearn-color-fitted-level-3: cornflowerblue;\n",
       "\n",
       "  /* Specific color for light theme */\n",
       "  --sklearn-color-text-on-default-background: var(--sg-text-color, var(--theme-code-foreground, var(--jp-content-font-color1, black)));\n",
       "  --sklearn-color-background: var(--sg-background-color, var(--theme-background, var(--jp-layout-color0, white)));\n",
       "  --sklearn-color-border-box: var(--sg-text-color, var(--theme-code-foreground, var(--jp-content-font-color1, black)));\n",
       "  --sklearn-color-icon: #696969;\n",
       "\n",
       "  @media (prefers-color-scheme: dark) {\n",
       "    /* Redefinition of color scheme for dark theme */\n",
       "    --sklearn-color-text-on-default-background: var(--sg-text-color, var(--theme-code-foreground, var(--jp-content-font-color1, white)));\n",
       "    --sklearn-color-background: var(--sg-background-color, var(--theme-background, var(--jp-layout-color0, #111)));\n",
       "    --sklearn-color-border-box: var(--sg-text-color, var(--theme-code-foreground, var(--jp-content-font-color1, white)));\n",
       "    --sklearn-color-icon: #878787;\n",
       "  }\n",
       "}\n",
       "\n",
       "#sk-container-id-5 {\n",
       "  color: var(--sklearn-color-text);\n",
       "}\n",
       "\n",
       "#sk-container-id-5 pre {\n",
       "  padding: 0;\n",
       "}\n",
       "\n",
       "#sk-container-id-5 input.sk-hidden--visually {\n",
       "  border: 0;\n",
       "  clip: rect(1px 1px 1px 1px);\n",
       "  clip: rect(1px, 1px, 1px, 1px);\n",
       "  height: 1px;\n",
       "  margin: -1px;\n",
       "  overflow: hidden;\n",
       "  padding: 0;\n",
       "  position: absolute;\n",
       "  width: 1px;\n",
       "}\n",
       "\n",
       "#sk-container-id-5 div.sk-dashed-wrapped {\n",
       "  border: 1px dashed var(--sklearn-color-line);\n",
       "  margin: 0 0.4em 0.5em 0.4em;\n",
       "  box-sizing: border-box;\n",
       "  padding-bottom: 0.4em;\n",
       "  background-color: var(--sklearn-color-background);\n",
       "}\n",
       "\n",
       "#sk-container-id-5 div.sk-container {\n",
       "  /* jupyter's `normalize.less` sets `[hidden] { display: none; }`\n",
       "     but bootstrap.min.css set `[hidden] { display: none !important; }`\n",
       "     so we also need the `!important` here to be able to override the\n",
       "     default hidden behavior on the sphinx rendered scikit-learn.org.\n",
       "     See: https://github.com/scikit-learn/scikit-learn/issues/21755 */\n",
       "  display: inline-block !important;\n",
       "  position: relative;\n",
       "}\n",
       "\n",
       "#sk-container-id-5 div.sk-text-repr-fallback {\n",
       "  display: none;\n",
       "}\n",
       "\n",
       "div.sk-parallel-item,\n",
       "div.sk-serial,\n",
       "div.sk-item {\n",
       "  /* draw centered vertical line to link estimators */\n",
       "  background-image: linear-gradient(var(--sklearn-color-text-on-default-background), var(--sklearn-color-text-on-default-background));\n",
       "  background-size: 2px 100%;\n",
       "  background-repeat: no-repeat;\n",
       "  background-position: center center;\n",
       "}\n",
       "\n",
       "/* Parallel-specific style estimator block */\n",
       "\n",
       "#sk-container-id-5 div.sk-parallel-item::after {\n",
       "  content: \"\";\n",
       "  width: 100%;\n",
       "  border-bottom: 2px solid var(--sklearn-color-text-on-default-background);\n",
       "  flex-grow: 1;\n",
       "}\n",
       "\n",
       "#sk-container-id-5 div.sk-parallel {\n",
       "  display: flex;\n",
       "  align-items: stretch;\n",
       "  justify-content: center;\n",
       "  background-color: var(--sklearn-color-background);\n",
       "  position: relative;\n",
       "}\n",
       "\n",
       "#sk-container-id-5 div.sk-parallel-item {\n",
       "  display: flex;\n",
       "  flex-direction: column;\n",
       "}\n",
       "\n",
       "#sk-container-id-5 div.sk-parallel-item:first-child::after {\n",
       "  align-self: flex-end;\n",
       "  width: 50%;\n",
       "}\n",
       "\n",
       "#sk-container-id-5 div.sk-parallel-item:last-child::after {\n",
       "  align-self: flex-start;\n",
       "  width: 50%;\n",
       "}\n",
       "\n",
       "#sk-container-id-5 div.sk-parallel-item:only-child::after {\n",
       "  width: 0;\n",
       "}\n",
       "\n",
       "/* Serial-specific style estimator block */\n",
       "\n",
       "#sk-container-id-5 div.sk-serial {\n",
       "  display: flex;\n",
       "  flex-direction: column;\n",
       "  align-items: center;\n",
       "  background-color: var(--sklearn-color-background);\n",
       "  padding-right: 1em;\n",
       "  padding-left: 1em;\n",
       "}\n",
       "\n",
       "\n",
       "/* Toggleable style: style used for estimator/Pipeline/ColumnTransformer box that is\n",
       "clickable and can be expanded/collapsed.\n",
       "- Pipeline and ColumnTransformer use this feature and define the default style\n",
       "- Estimators will overwrite some part of the style using the `sk-estimator` class\n",
       "*/\n",
       "\n",
       "/* Pipeline and ColumnTransformer style (default) */\n",
       "\n",
       "#sk-container-id-5 div.sk-toggleable {\n",
       "  /* Default theme specific background. It is overwritten whether we have a\n",
       "  specific estimator or a Pipeline/ColumnTransformer */\n",
       "  background-color: var(--sklearn-color-background);\n",
       "}\n",
       "\n",
       "/* Toggleable label */\n",
       "#sk-container-id-5 label.sk-toggleable__label {\n",
       "  cursor: pointer;\n",
       "  display: flex;\n",
       "  width: 100%;\n",
       "  margin-bottom: 0;\n",
       "  padding: 0.5em;\n",
       "  box-sizing: border-box;\n",
       "  text-align: center;\n",
       "  align-items: start;\n",
       "  justify-content: space-between;\n",
       "  gap: 0.5em;\n",
       "}\n",
       "\n",
       "#sk-container-id-5 label.sk-toggleable__label .caption {\n",
       "  font-size: 0.6rem;\n",
       "  font-weight: lighter;\n",
       "  color: var(--sklearn-color-text-muted);\n",
       "}\n",
       "\n",
       "#sk-container-id-5 label.sk-toggleable__label-arrow:before {\n",
       "  /* Arrow on the left of the label */\n",
       "  content: \"▸\";\n",
       "  float: left;\n",
       "  margin-right: 0.25em;\n",
       "  color: var(--sklearn-color-icon);\n",
       "}\n",
       "\n",
       "#sk-container-id-5 label.sk-toggleable__label-arrow:hover:before {\n",
       "  color: var(--sklearn-color-text);\n",
       "}\n",
       "\n",
       "/* Toggleable content - dropdown */\n",
       "\n",
       "#sk-container-id-5 div.sk-toggleable__content {\n",
       "  max-height: 0;\n",
       "  max-width: 0;\n",
       "  overflow: hidden;\n",
       "  text-align: left;\n",
       "  /* unfitted */\n",
       "  background-color: var(--sklearn-color-unfitted-level-0);\n",
       "}\n",
       "\n",
       "#sk-container-id-5 div.sk-toggleable__content.fitted {\n",
       "  /* fitted */\n",
       "  background-color: var(--sklearn-color-fitted-level-0);\n",
       "}\n",
       "\n",
       "#sk-container-id-5 div.sk-toggleable__content pre {\n",
       "  margin: 0.2em;\n",
       "  border-radius: 0.25em;\n",
       "  color: var(--sklearn-color-text);\n",
       "  /* unfitted */\n",
       "  background-color: var(--sklearn-color-unfitted-level-0);\n",
       "}\n",
       "\n",
       "#sk-container-id-5 div.sk-toggleable__content.fitted pre {\n",
       "  /* unfitted */\n",
       "  background-color: var(--sklearn-color-fitted-level-0);\n",
       "}\n",
       "\n",
       "#sk-container-id-5 input.sk-toggleable__control:checked~div.sk-toggleable__content {\n",
       "  /* Expand drop-down */\n",
       "  max-height: 200px;\n",
       "  max-width: 100%;\n",
       "  overflow: auto;\n",
       "}\n",
       "\n",
       "#sk-container-id-5 input.sk-toggleable__control:checked~label.sk-toggleable__label-arrow:before {\n",
       "  content: \"▾\";\n",
       "}\n",
       "\n",
       "/* Pipeline/ColumnTransformer-specific style */\n",
       "\n",
       "#sk-container-id-5 div.sk-label input.sk-toggleable__control:checked~label.sk-toggleable__label {\n",
       "  color: var(--sklearn-color-text);\n",
       "  background-color: var(--sklearn-color-unfitted-level-2);\n",
       "}\n",
       "\n",
       "#sk-container-id-5 div.sk-label.fitted input.sk-toggleable__control:checked~label.sk-toggleable__label {\n",
       "  background-color: var(--sklearn-color-fitted-level-2);\n",
       "}\n",
       "\n",
       "/* Estimator-specific style */\n",
       "\n",
       "/* Colorize estimator box */\n",
       "#sk-container-id-5 div.sk-estimator input.sk-toggleable__control:checked~label.sk-toggleable__label {\n",
       "  /* unfitted */\n",
       "  background-color: var(--sklearn-color-unfitted-level-2);\n",
       "}\n",
       "\n",
       "#sk-container-id-5 div.sk-estimator.fitted input.sk-toggleable__control:checked~label.sk-toggleable__label {\n",
       "  /* fitted */\n",
       "  background-color: var(--sklearn-color-fitted-level-2);\n",
       "}\n",
       "\n",
       "#sk-container-id-5 div.sk-label label.sk-toggleable__label,\n",
       "#sk-container-id-5 div.sk-label label {\n",
       "  /* The background is the default theme color */\n",
       "  color: var(--sklearn-color-text-on-default-background);\n",
       "}\n",
       "\n",
       "/* On hover, darken the color of the background */\n",
       "#sk-container-id-5 div.sk-label:hover label.sk-toggleable__label {\n",
       "  color: var(--sklearn-color-text);\n",
       "  background-color: var(--sklearn-color-unfitted-level-2);\n",
       "}\n",
       "\n",
       "/* Label box, darken color on hover, fitted */\n",
       "#sk-container-id-5 div.sk-label.fitted:hover label.sk-toggleable__label.fitted {\n",
       "  color: var(--sklearn-color-text);\n",
       "  background-color: var(--sklearn-color-fitted-level-2);\n",
       "}\n",
       "\n",
       "/* Estimator label */\n",
       "\n",
       "#sk-container-id-5 div.sk-label label {\n",
       "  font-family: monospace;\n",
       "  font-weight: bold;\n",
       "  display: inline-block;\n",
       "  line-height: 1.2em;\n",
       "}\n",
       "\n",
       "#sk-container-id-5 div.sk-label-container {\n",
       "  text-align: center;\n",
       "}\n",
       "\n",
       "/* Estimator-specific */\n",
       "#sk-container-id-5 div.sk-estimator {\n",
       "  font-family: monospace;\n",
       "  border: 1px dotted var(--sklearn-color-border-box);\n",
       "  border-radius: 0.25em;\n",
       "  box-sizing: border-box;\n",
       "  margin-bottom: 0.5em;\n",
       "  /* unfitted */\n",
       "  background-color: var(--sklearn-color-unfitted-level-0);\n",
       "}\n",
       "\n",
       "#sk-container-id-5 div.sk-estimator.fitted {\n",
       "  /* fitted */\n",
       "  background-color: var(--sklearn-color-fitted-level-0);\n",
       "}\n",
       "\n",
       "/* on hover */\n",
       "#sk-container-id-5 div.sk-estimator:hover {\n",
       "  /* unfitted */\n",
       "  background-color: var(--sklearn-color-unfitted-level-2);\n",
       "}\n",
       "\n",
       "#sk-container-id-5 div.sk-estimator.fitted:hover {\n",
       "  /* fitted */\n",
       "  background-color: var(--sklearn-color-fitted-level-2);\n",
       "}\n",
       "\n",
       "/* Specification for estimator info (e.g. \"i\" and \"?\") */\n",
       "\n",
       "/* Common style for \"i\" and \"?\" */\n",
       "\n",
       ".sk-estimator-doc-link,\n",
       "a:link.sk-estimator-doc-link,\n",
       "a:visited.sk-estimator-doc-link {\n",
       "  float: right;\n",
       "  font-size: smaller;\n",
       "  line-height: 1em;\n",
       "  font-family: monospace;\n",
       "  background-color: var(--sklearn-color-background);\n",
       "  border-radius: 1em;\n",
       "  height: 1em;\n",
       "  width: 1em;\n",
       "  text-decoration: none !important;\n",
       "  margin-left: 0.5em;\n",
       "  text-align: center;\n",
       "  /* unfitted */\n",
       "  border: var(--sklearn-color-unfitted-level-1) 1pt solid;\n",
       "  color: var(--sklearn-color-unfitted-level-1);\n",
       "}\n",
       "\n",
       ".sk-estimator-doc-link.fitted,\n",
       "a:link.sk-estimator-doc-link.fitted,\n",
       "a:visited.sk-estimator-doc-link.fitted {\n",
       "  /* fitted */\n",
       "  border: var(--sklearn-color-fitted-level-1) 1pt solid;\n",
       "  color: var(--sklearn-color-fitted-level-1);\n",
       "}\n",
       "\n",
       "/* On hover */\n",
       "div.sk-estimator:hover .sk-estimator-doc-link:hover,\n",
       ".sk-estimator-doc-link:hover,\n",
       "div.sk-label-container:hover .sk-estimator-doc-link:hover,\n",
       ".sk-estimator-doc-link:hover {\n",
       "  /* unfitted */\n",
       "  background-color: var(--sklearn-color-unfitted-level-3);\n",
       "  color: var(--sklearn-color-background);\n",
       "  text-decoration: none;\n",
       "}\n",
       "\n",
       "div.sk-estimator.fitted:hover .sk-estimator-doc-link.fitted:hover,\n",
       ".sk-estimator-doc-link.fitted:hover,\n",
       "div.sk-label-container:hover .sk-estimator-doc-link.fitted:hover,\n",
       ".sk-estimator-doc-link.fitted:hover {\n",
       "  /* fitted */\n",
       "  background-color: var(--sklearn-color-fitted-level-3);\n",
       "  color: var(--sklearn-color-background);\n",
       "  text-decoration: none;\n",
       "}\n",
       "\n",
       "/* Span, style for the box shown on hovering the info icon */\n",
       ".sk-estimator-doc-link span {\n",
       "  display: none;\n",
       "  z-index: 9999;\n",
       "  position: relative;\n",
       "  font-weight: normal;\n",
       "  right: .2ex;\n",
       "  padding: .5ex;\n",
       "  margin: .5ex;\n",
       "  width: min-content;\n",
       "  min-width: 20ex;\n",
       "  max-width: 50ex;\n",
       "  color: var(--sklearn-color-text);\n",
       "  box-shadow: 2pt 2pt 4pt #999;\n",
       "  /* unfitted */\n",
       "  background: var(--sklearn-color-unfitted-level-0);\n",
       "  border: .5pt solid var(--sklearn-color-unfitted-level-3);\n",
       "}\n",
       "\n",
       ".sk-estimator-doc-link.fitted span {\n",
       "  /* fitted */\n",
       "  background: var(--sklearn-color-fitted-level-0);\n",
       "  border: var(--sklearn-color-fitted-level-3);\n",
       "}\n",
       "\n",
       ".sk-estimator-doc-link:hover span {\n",
       "  display: block;\n",
       "}\n",
       "\n",
       "/* \"?\"-specific style due to the `<a>` HTML tag */\n",
       "\n",
       "#sk-container-id-5 a.estimator_doc_link {\n",
       "  float: right;\n",
       "  font-size: 1rem;\n",
       "  line-height: 1em;\n",
       "  font-family: monospace;\n",
       "  background-color: var(--sklearn-color-background);\n",
       "  border-radius: 1rem;\n",
       "  height: 1rem;\n",
       "  width: 1rem;\n",
       "  text-decoration: none;\n",
       "  /* unfitted */\n",
       "  color: var(--sklearn-color-unfitted-level-1);\n",
       "  border: var(--sklearn-color-unfitted-level-1) 1pt solid;\n",
       "}\n",
       "\n",
       "#sk-container-id-5 a.estimator_doc_link.fitted {\n",
       "  /* fitted */\n",
       "  border: var(--sklearn-color-fitted-level-1) 1pt solid;\n",
       "  color: var(--sklearn-color-fitted-level-1);\n",
       "}\n",
       "\n",
       "/* On hover */\n",
       "#sk-container-id-5 a.estimator_doc_link:hover {\n",
       "  /* unfitted */\n",
       "  background-color: var(--sklearn-color-unfitted-level-3);\n",
       "  color: var(--sklearn-color-background);\n",
       "  text-decoration: none;\n",
       "}\n",
       "\n",
       "#sk-container-id-5 a.estimator_doc_link.fitted:hover {\n",
       "  /* fitted */\n",
       "  background-color: var(--sklearn-color-fitted-level-3);\n",
       "}\n",
       "</style><div id=\"sk-container-id-5\" class=\"sk-top-container\"><div class=\"sk-text-repr-fallback\"><pre>KNeighborsClassifier()</pre><b>In a Jupyter environment, please rerun this cell to show the HTML representation or trust the notebook. <br />On GitHub, the HTML representation is unable to render, please try loading this page with nbviewer.org.</b></div><div class=\"sk-container\" hidden><div class=\"sk-item\"><div class=\"sk-estimator fitted sk-toggleable\"><input class=\"sk-toggleable__control sk-hidden--visually\" id=\"sk-estimator-id-5\" type=\"checkbox\" checked><label for=\"sk-estimator-id-5\" class=\"sk-toggleable__label fitted sk-toggleable__label-arrow\"><div><div>KNeighborsClassifier</div></div><div><a class=\"sk-estimator-doc-link fitted\" rel=\"noreferrer\" target=\"_blank\" href=\"https://scikit-learn.org/1.6/modules/generated/sklearn.neighbors.KNeighborsClassifier.html\">?<span>Documentation for KNeighborsClassifier</span></a><span class=\"sk-estimator-doc-link fitted\">i<span>Fitted</span></span></div></label><div class=\"sk-toggleable__content fitted\"><pre>KNeighborsClassifier()</pre></div> </div></div></div></div>"
      ],
      "text/plain": [
       "KNeighborsClassifier()"
      ]
     },
     "execution_count": 79,
     "metadata": {},
     "output_type": "execute_result"
    }
   ],
   "source": [
    "knn.fit(x_train,y_train)"
   ]
  },
  {
   "cell_type": "code",
   "execution_count": 80,
   "metadata": {},
   "outputs": [
    {
     "name": "stdout",
     "output_type": "stream",
     "text": [
      "1.0010900497436523\n"
     ]
    }
   ],
   "source": [
    "#printing time for execution time\n",
    "import time \n",
    "start = time.time()\n",
    "y_pred = knn.predict(x_test)\n",
    "print(time.time() -start)"
   ]
  },
  {
   "cell_type": "code",
   "execution_count": 95,
   "metadata": {},
   "outputs": [
    {
     "data": {
      "text/plain": [
       "0.91425"
      ]
     },
     "execution_count": 95,
     "metadata": {},
     "output_type": "execute_result"
    }
   ],
   "source": [
    "from sklearn.metrics import accuracy_score\n",
    "\n",
    "accuracy_score(y_test,y_pred)"
   ]
  },
  {
   "cell_type": "code",
   "execution_count": 96,
   "metadata": {},
   "outputs": [],
   "source": [
    "from sklearn.preprocessing import StandardScaler\n",
    "\n",
    "scaler = StandardScaler()"
   ]
  },
  {
   "cell_type": "code",
   "execution_count": 104,
   "metadata": {},
   "outputs": [],
   "source": [
    "x_train = scaler.fit_transform(x_train)\n",
    "x_test = scaler.transform(x_test)"
   ]
  },
  {
   "cell_type": "code",
   "execution_count": 117,
   "metadata": {},
   "outputs": [],
   "source": [
    "# pca \n",
    "\n",
    "from sklearn.decomposition import PCA\n",
    "pca = PCA(n_components=150)\n"
   ]
  },
  {
   "cell_type": "code",
   "execution_count": 118,
   "metadata": {},
   "outputs": [],
   "source": [
    "x_train_transform = pca.fit_transform(x_train)\n",
    "x_test_transform = pca.transform(x_test)"
   ]
  },
  {
   "cell_type": "code",
   "execution_count": 119,
   "metadata": {},
   "outputs": [
    {
     "data": {
      "text/plain": [
       "(2000, 150)"
      ]
     },
     "execution_count": 119,
     "metadata": {},
     "output_type": "execute_result"
    }
   ],
   "source": [
    "x_train_transform.shape\n"
   ]
  },
  {
   "cell_type": "code",
   "execution_count": 120,
   "metadata": {},
   "outputs": [
    {
     "data": {
      "text/html": [
       "<style>#sk-container-id-9 {\n",
       "  /* Definition of color scheme common for light and dark mode */\n",
       "  --sklearn-color-text: #000;\n",
       "  --sklearn-color-text-muted: #666;\n",
       "  --sklearn-color-line: gray;\n",
       "  /* Definition of color scheme for unfitted estimators */\n",
       "  --sklearn-color-unfitted-level-0: #fff5e6;\n",
       "  --sklearn-color-unfitted-level-1: #f6e4d2;\n",
       "  --sklearn-color-unfitted-level-2: #ffe0b3;\n",
       "  --sklearn-color-unfitted-level-3: chocolate;\n",
       "  /* Definition of color scheme for fitted estimators */\n",
       "  --sklearn-color-fitted-level-0: #f0f8ff;\n",
       "  --sklearn-color-fitted-level-1: #d4ebff;\n",
       "  --sklearn-color-fitted-level-2: #b3dbfd;\n",
       "  --sklearn-color-fitted-level-3: cornflowerblue;\n",
       "\n",
       "  /* Specific color for light theme */\n",
       "  --sklearn-color-text-on-default-background: var(--sg-text-color, var(--theme-code-foreground, var(--jp-content-font-color1, black)));\n",
       "  --sklearn-color-background: var(--sg-background-color, var(--theme-background, var(--jp-layout-color0, white)));\n",
       "  --sklearn-color-border-box: var(--sg-text-color, var(--theme-code-foreground, var(--jp-content-font-color1, black)));\n",
       "  --sklearn-color-icon: #696969;\n",
       "\n",
       "  @media (prefers-color-scheme: dark) {\n",
       "    /* Redefinition of color scheme for dark theme */\n",
       "    --sklearn-color-text-on-default-background: var(--sg-text-color, var(--theme-code-foreground, var(--jp-content-font-color1, white)));\n",
       "    --sklearn-color-background: var(--sg-background-color, var(--theme-background, var(--jp-layout-color0, #111)));\n",
       "    --sklearn-color-border-box: var(--sg-text-color, var(--theme-code-foreground, var(--jp-content-font-color1, white)));\n",
       "    --sklearn-color-icon: #878787;\n",
       "  }\n",
       "}\n",
       "\n",
       "#sk-container-id-9 {\n",
       "  color: var(--sklearn-color-text);\n",
       "}\n",
       "\n",
       "#sk-container-id-9 pre {\n",
       "  padding: 0;\n",
       "}\n",
       "\n",
       "#sk-container-id-9 input.sk-hidden--visually {\n",
       "  border: 0;\n",
       "  clip: rect(1px 1px 1px 1px);\n",
       "  clip: rect(1px, 1px, 1px, 1px);\n",
       "  height: 1px;\n",
       "  margin: -1px;\n",
       "  overflow: hidden;\n",
       "  padding: 0;\n",
       "  position: absolute;\n",
       "  width: 1px;\n",
       "}\n",
       "\n",
       "#sk-container-id-9 div.sk-dashed-wrapped {\n",
       "  border: 1px dashed var(--sklearn-color-line);\n",
       "  margin: 0 0.4em 0.5em 0.4em;\n",
       "  box-sizing: border-box;\n",
       "  padding-bottom: 0.4em;\n",
       "  background-color: var(--sklearn-color-background);\n",
       "}\n",
       "\n",
       "#sk-container-id-9 div.sk-container {\n",
       "  /* jupyter's `normalize.less` sets `[hidden] { display: none; }`\n",
       "     but bootstrap.min.css set `[hidden] { display: none !important; }`\n",
       "     so we also need the `!important` here to be able to override the\n",
       "     default hidden behavior on the sphinx rendered scikit-learn.org.\n",
       "     See: https://github.com/scikit-learn/scikit-learn/issues/21755 */\n",
       "  display: inline-block !important;\n",
       "  position: relative;\n",
       "}\n",
       "\n",
       "#sk-container-id-9 div.sk-text-repr-fallback {\n",
       "  display: none;\n",
       "}\n",
       "\n",
       "div.sk-parallel-item,\n",
       "div.sk-serial,\n",
       "div.sk-item {\n",
       "  /* draw centered vertical line to link estimators */\n",
       "  background-image: linear-gradient(var(--sklearn-color-text-on-default-background), var(--sklearn-color-text-on-default-background));\n",
       "  background-size: 2px 100%;\n",
       "  background-repeat: no-repeat;\n",
       "  background-position: center center;\n",
       "}\n",
       "\n",
       "/* Parallel-specific style estimator block */\n",
       "\n",
       "#sk-container-id-9 div.sk-parallel-item::after {\n",
       "  content: \"\";\n",
       "  width: 100%;\n",
       "  border-bottom: 2px solid var(--sklearn-color-text-on-default-background);\n",
       "  flex-grow: 1;\n",
       "}\n",
       "\n",
       "#sk-container-id-9 div.sk-parallel {\n",
       "  display: flex;\n",
       "  align-items: stretch;\n",
       "  justify-content: center;\n",
       "  background-color: var(--sklearn-color-background);\n",
       "  position: relative;\n",
       "}\n",
       "\n",
       "#sk-container-id-9 div.sk-parallel-item {\n",
       "  display: flex;\n",
       "  flex-direction: column;\n",
       "}\n",
       "\n",
       "#sk-container-id-9 div.sk-parallel-item:first-child::after {\n",
       "  align-self: flex-end;\n",
       "  width: 50%;\n",
       "}\n",
       "\n",
       "#sk-container-id-9 div.sk-parallel-item:last-child::after {\n",
       "  align-self: flex-start;\n",
       "  width: 50%;\n",
       "}\n",
       "\n",
       "#sk-container-id-9 div.sk-parallel-item:only-child::after {\n",
       "  width: 0;\n",
       "}\n",
       "\n",
       "/* Serial-specific style estimator block */\n",
       "\n",
       "#sk-container-id-9 div.sk-serial {\n",
       "  display: flex;\n",
       "  flex-direction: column;\n",
       "  align-items: center;\n",
       "  background-color: var(--sklearn-color-background);\n",
       "  padding-right: 1em;\n",
       "  padding-left: 1em;\n",
       "}\n",
       "\n",
       "\n",
       "/* Toggleable style: style used for estimator/Pipeline/ColumnTransformer box that is\n",
       "clickable and can be expanded/collapsed.\n",
       "- Pipeline and ColumnTransformer use this feature and define the default style\n",
       "- Estimators will overwrite some part of the style using the `sk-estimator` class\n",
       "*/\n",
       "\n",
       "/* Pipeline and ColumnTransformer style (default) */\n",
       "\n",
       "#sk-container-id-9 div.sk-toggleable {\n",
       "  /* Default theme specific background. It is overwritten whether we have a\n",
       "  specific estimator or a Pipeline/ColumnTransformer */\n",
       "  background-color: var(--sklearn-color-background);\n",
       "}\n",
       "\n",
       "/* Toggleable label */\n",
       "#sk-container-id-9 label.sk-toggleable__label {\n",
       "  cursor: pointer;\n",
       "  display: flex;\n",
       "  width: 100%;\n",
       "  margin-bottom: 0;\n",
       "  padding: 0.5em;\n",
       "  box-sizing: border-box;\n",
       "  text-align: center;\n",
       "  align-items: start;\n",
       "  justify-content: space-between;\n",
       "  gap: 0.5em;\n",
       "}\n",
       "\n",
       "#sk-container-id-9 label.sk-toggleable__label .caption {\n",
       "  font-size: 0.6rem;\n",
       "  font-weight: lighter;\n",
       "  color: var(--sklearn-color-text-muted);\n",
       "}\n",
       "\n",
       "#sk-container-id-9 label.sk-toggleable__label-arrow:before {\n",
       "  /* Arrow on the left of the label */\n",
       "  content: \"▸\";\n",
       "  float: left;\n",
       "  margin-right: 0.25em;\n",
       "  color: var(--sklearn-color-icon);\n",
       "}\n",
       "\n",
       "#sk-container-id-9 label.sk-toggleable__label-arrow:hover:before {\n",
       "  color: var(--sklearn-color-text);\n",
       "}\n",
       "\n",
       "/* Toggleable content - dropdown */\n",
       "\n",
       "#sk-container-id-9 div.sk-toggleable__content {\n",
       "  max-height: 0;\n",
       "  max-width: 0;\n",
       "  overflow: hidden;\n",
       "  text-align: left;\n",
       "  /* unfitted */\n",
       "  background-color: var(--sklearn-color-unfitted-level-0);\n",
       "}\n",
       "\n",
       "#sk-container-id-9 div.sk-toggleable__content.fitted {\n",
       "  /* fitted */\n",
       "  background-color: var(--sklearn-color-fitted-level-0);\n",
       "}\n",
       "\n",
       "#sk-container-id-9 div.sk-toggleable__content pre {\n",
       "  margin: 0.2em;\n",
       "  border-radius: 0.25em;\n",
       "  color: var(--sklearn-color-text);\n",
       "  /* unfitted */\n",
       "  background-color: var(--sklearn-color-unfitted-level-0);\n",
       "}\n",
       "\n",
       "#sk-container-id-9 div.sk-toggleable__content.fitted pre {\n",
       "  /* unfitted */\n",
       "  background-color: var(--sklearn-color-fitted-level-0);\n",
       "}\n",
       "\n",
       "#sk-container-id-9 input.sk-toggleable__control:checked~div.sk-toggleable__content {\n",
       "  /* Expand drop-down */\n",
       "  max-height: 200px;\n",
       "  max-width: 100%;\n",
       "  overflow: auto;\n",
       "}\n",
       "\n",
       "#sk-container-id-9 input.sk-toggleable__control:checked~label.sk-toggleable__label-arrow:before {\n",
       "  content: \"▾\";\n",
       "}\n",
       "\n",
       "/* Pipeline/ColumnTransformer-specific style */\n",
       "\n",
       "#sk-container-id-9 div.sk-label input.sk-toggleable__control:checked~label.sk-toggleable__label {\n",
       "  color: var(--sklearn-color-text);\n",
       "  background-color: var(--sklearn-color-unfitted-level-2);\n",
       "}\n",
       "\n",
       "#sk-container-id-9 div.sk-label.fitted input.sk-toggleable__control:checked~label.sk-toggleable__label {\n",
       "  background-color: var(--sklearn-color-fitted-level-2);\n",
       "}\n",
       "\n",
       "/* Estimator-specific style */\n",
       "\n",
       "/* Colorize estimator box */\n",
       "#sk-container-id-9 div.sk-estimator input.sk-toggleable__control:checked~label.sk-toggleable__label {\n",
       "  /* unfitted */\n",
       "  background-color: var(--sklearn-color-unfitted-level-2);\n",
       "}\n",
       "\n",
       "#sk-container-id-9 div.sk-estimator.fitted input.sk-toggleable__control:checked~label.sk-toggleable__label {\n",
       "  /* fitted */\n",
       "  background-color: var(--sklearn-color-fitted-level-2);\n",
       "}\n",
       "\n",
       "#sk-container-id-9 div.sk-label label.sk-toggleable__label,\n",
       "#sk-container-id-9 div.sk-label label {\n",
       "  /* The background is the default theme color */\n",
       "  color: var(--sklearn-color-text-on-default-background);\n",
       "}\n",
       "\n",
       "/* On hover, darken the color of the background */\n",
       "#sk-container-id-9 div.sk-label:hover label.sk-toggleable__label {\n",
       "  color: var(--sklearn-color-text);\n",
       "  background-color: var(--sklearn-color-unfitted-level-2);\n",
       "}\n",
       "\n",
       "/* Label box, darken color on hover, fitted */\n",
       "#sk-container-id-9 div.sk-label.fitted:hover label.sk-toggleable__label.fitted {\n",
       "  color: var(--sklearn-color-text);\n",
       "  background-color: var(--sklearn-color-fitted-level-2);\n",
       "}\n",
       "\n",
       "/* Estimator label */\n",
       "\n",
       "#sk-container-id-9 div.sk-label label {\n",
       "  font-family: monospace;\n",
       "  font-weight: bold;\n",
       "  display: inline-block;\n",
       "  line-height: 1.2em;\n",
       "}\n",
       "\n",
       "#sk-container-id-9 div.sk-label-container {\n",
       "  text-align: center;\n",
       "}\n",
       "\n",
       "/* Estimator-specific */\n",
       "#sk-container-id-9 div.sk-estimator {\n",
       "  font-family: monospace;\n",
       "  border: 1px dotted var(--sklearn-color-border-box);\n",
       "  border-radius: 0.25em;\n",
       "  box-sizing: border-box;\n",
       "  margin-bottom: 0.5em;\n",
       "  /* unfitted */\n",
       "  background-color: var(--sklearn-color-unfitted-level-0);\n",
       "}\n",
       "\n",
       "#sk-container-id-9 div.sk-estimator.fitted {\n",
       "  /* fitted */\n",
       "  background-color: var(--sklearn-color-fitted-level-0);\n",
       "}\n",
       "\n",
       "/* on hover */\n",
       "#sk-container-id-9 div.sk-estimator:hover {\n",
       "  /* unfitted */\n",
       "  background-color: var(--sklearn-color-unfitted-level-2);\n",
       "}\n",
       "\n",
       "#sk-container-id-9 div.sk-estimator.fitted:hover {\n",
       "  /* fitted */\n",
       "  background-color: var(--sklearn-color-fitted-level-2);\n",
       "}\n",
       "\n",
       "/* Specification for estimator info (e.g. \"i\" and \"?\") */\n",
       "\n",
       "/* Common style for \"i\" and \"?\" */\n",
       "\n",
       ".sk-estimator-doc-link,\n",
       "a:link.sk-estimator-doc-link,\n",
       "a:visited.sk-estimator-doc-link {\n",
       "  float: right;\n",
       "  font-size: smaller;\n",
       "  line-height: 1em;\n",
       "  font-family: monospace;\n",
       "  background-color: var(--sklearn-color-background);\n",
       "  border-radius: 1em;\n",
       "  height: 1em;\n",
       "  width: 1em;\n",
       "  text-decoration: none !important;\n",
       "  margin-left: 0.5em;\n",
       "  text-align: center;\n",
       "  /* unfitted */\n",
       "  border: var(--sklearn-color-unfitted-level-1) 1pt solid;\n",
       "  color: var(--sklearn-color-unfitted-level-1);\n",
       "}\n",
       "\n",
       ".sk-estimator-doc-link.fitted,\n",
       "a:link.sk-estimator-doc-link.fitted,\n",
       "a:visited.sk-estimator-doc-link.fitted {\n",
       "  /* fitted */\n",
       "  border: var(--sklearn-color-fitted-level-1) 1pt solid;\n",
       "  color: var(--sklearn-color-fitted-level-1);\n",
       "}\n",
       "\n",
       "/* On hover */\n",
       "div.sk-estimator:hover .sk-estimator-doc-link:hover,\n",
       ".sk-estimator-doc-link:hover,\n",
       "div.sk-label-container:hover .sk-estimator-doc-link:hover,\n",
       ".sk-estimator-doc-link:hover {\n",
       "  /* unfitted */\n",
       "  background-color: var(--sklearn-color-unfitted-level-3);\n",
       "  color: var(--sklearn-color-background);\n",
       "  text-decoration: none;\n",
       "}\n",
       "\n",
       "div.sk-estimator.fitted:hover .sk-estimator-doc-link.fitted:hover,\n",
       ".sk-estimator-doc-link.fitted:hover,\n",
       "div.sk-label-container:hover .sk-estimator-doc-link.fitted:hover,\n",
       ".sk-estimator-doc-link.fitted:hover {\n",
       "  /* fitted */\n",
       "  background-color: var(--sklearn-color-fitted-level-3);\n",
       "  color: var(--sklearn-color-background);\n",
       "  text-decoration: none;\n",
       "}\n",
       "\n",
       "/* Span, style for the box shown on hovering the info icon */\n",
       ".sk-estimator-doc-link span {\n",
       "  display: none;\n",
       "  z-index: 9999;\n",
       "  position: relative;\n",
       "  font-weight: normal;\n",
       "  right: .2ex;\n",
       "  padding: .5ex;\n",
       "  margin: .5ex;\n",
       "  width: min-content;\n",
       "  min-width: 20ex;\n",
       "  max-width: 50ex;\n",
       "  color: var(--sklearn-color-text);\n",
       "  box-shadow: 2pt 2pt 4pt #999;\n",
       "  /* unfitted */\n",
       "  background: var(--sklearn-color-unfitted-level-0);\n",
       "  border: .5pt solid var(--sklearn-color-unfitted-level-3);\n",
       "}\n",
       "\n",
       ".sk-estimator-doc-link.fitted span {\n",
       "  /* fitted */\n",
       "  background: var(--sklearn-color-fitted-level-0);\n",
       "  border: var(--sklearn-color-fitted-level-3);\n",
       "}\n",
       "\n",
       ".sk-estimator-doc-link:hover span {\n",
       "  display: block;\n",
       "}\n",
       "\n",
       "/* \"?\"-specific style due to the `<a>` HTML tag */\n",
       "\n",
       "#sk-container-id-9 a.estimator_doc_link {\n",
       "  float: right;\n",
       "  font-size: 1rem;\n",
       "  line-height: 1em;\n",
       "  font-family: monospace;\n",
       "  background-color: var(--sklearn-color-background);\n",
       "  border-radius: 1rem;\n",
       "  height: 1rem;\n",
       "  width: 1rem;\n",
       "  text-decoration: none;\n",
       "  /* unfitted */\n",
       "  color: var(--sklearn-color-unfitted-level-1);\n",
       "  border: var(--sklearn-color-unfitted-level-1) 1pt solid;\n",
       "}\n",
       "\n",
       "#sk-container-id-9 a.estimator_doc_link.fitted {\n",
       "  /* fitted */\n",
       "  border: var(--sklearn-color-fitted-level-1) 1pt solid;\n",
       "  color: var(--sklearn-color-fitted-level-1);\n",
       "}\n",
       "\n",
       "/* On hover */\n",
       "#sk-container-id-9 a.estimator_doc_link:hover {\n",
       "  /* unfitted */\n",
       "  background-color: var(--sklearn-color-unfitted-level-3);\n",
       "  color: var(--sklearn-color-background);\n",
       "  text-decoration: none;\n",
       "}\n",
       "\n",
       "#sk-container-id-9 a.estimator_doc_link.fitted:hover {\n",
       "  /* fitted */\n",
       "  background-color: var(--sklearn-color-fitted-level-3);\n",
       "}\n",
       "</style><div id=\"sk-container-id-9\" class=\"sk-top-container\"><div class=\"sk-text-repr-fallback\"><pre>KNeighborsClassifier()</pre><b>In a Jupyter environment, please rerun this cell to show the HTML representation or trust the notebook. <br />On GitHub, the HTML representation is unable to render, please try loading this page with nbviewer.org.</b></div><div class=\"sk-container\" hidden><div class=\"sk-item\"><div class=\"sk-estimator fitted sk-toggleable\"><input class=\"sk-toggleable__control sk-hidden--visually\" id=\"sk-estimator-id-9\" type=\"checkbox\" checked><label for=\"sk-estimator-id-9\" class=\"sk-toggleable__label fitted sk-toggleable__label-arrow\"><div><div>KNeighborsClassifier</div></div><div><a class=\"sk-estimator-doc-link fitted\" rel=\"noreferrer\" target=\"_blank\" href=\"https://scikit-learn.org/1.6/modules/generated/sklearn.neighbors.KNeighborsClassifier.html\">?<span>Documentation for KNeighborsClassifier</span></a><span class=\"sk-estimator-doc-link fitted\">i<span>Fitted</span></span></div></label><div class=\"sk-toggleable__content fitted\"><pre>KNeighborsClassifier()</pre></div> </div></div></div></div>"
      ],
      "text/plain": [
       "KNeighborsClassifier()"
      ]
     },
     "execution_count": 120,
     "metadata": {},
     "output_type": "execute_result"
    }
   ],
   "source": [
    "knn = KNeighborsClassifier()\n",
    "\n",
    "knn.fit(x_train_transform,y_train)"
   ]
  },
  {
   "cell_type": "code",
   "execution_count": 121,
   "metadata": {},
   "outputs": [],
   "source": [
    "y_pred = knn.predict(x_test_transform)"
   ]
  },
  {
   "cell_type": "code",
   "execution_count": null,
   "metadata": {},
   "outputs": [
    {
     "name": "stdout",
     "output_type": "stream",
     "text": [
      "0.885625\n"
     ]
    }
   ],
   "source": [
    "accuracy_score(y_test,y_pred)"
   ]
  },
  {
   "cell_type": "code",
   "execution_count": null,
   "metadata": {},
   "outputs": [
    {
     "name": "stdout",
     "output_type": "stream",
     "text": [
      "0.261875\n",
      "0.33875\n",
      "0.46975\n",
      "0.622625\n"
     ]
    }
   ],
   "source": [
    "# runing the pca for all component\n",
    "\n",
    "for i in range(1, 780):\n",
    "    pca = PCA(n_components=i)\n",
    "\n",
    "    x_train_transform = pca.fit_transform(x_train)\n",
    "    x_test_transform = pca.transform(x_test)\n",
    "\n",
    "    knn = KNeighborsClassifier()\n",
    "\n",
    "    knn.fit(x_train_transform,y_train)\n",
    "\n",
    "    y_pred = knn.predict(x_test_transform)\n",
    "\n",
    "    print(accuracy_score(y_test,y_pred))\n",
    "    \n",
    "    \n",
    "    "
   ]
  },
  {
   "cell_type": "code",
   "execution_count": 145,
   "metadata": {},
   "outputs": [
    {
     "data": {
      "text/plain": [
       "(2000, 2)"
      ]
     },
     "execution_count": 145,
     "metadata": {},
     "output_type": "execute_result"
    }
   ],
   "source": [
    "# transforming a data to 2d \n",
    "\n",
    "pca = PCA(n_components=2)\n",
    "x_train_transform = pca.fit_transform(x_train)\n",
    "x_test_transform = pca.transform(x_test)\n",
    "\n",
    "x_train_transform.shape"
   ]
  },
  {
   "cell_type": "code",
   "execution_count": 146,
   "metadata": {},
   "outputs": [
    {
     "data": {
      "application/vnd.plotly.v1+json": {
       "config": {
        "plotlyServerURL": "https://plot.ly"
       },
       "data": [
        {
         "hovertemplate": "color=4<br>x=%{x}<br>y=%{y}<extra></extra>",
         "legendgroup": "4",
         "marker": {
          "color": "rgb(229, 134, 6)",
          "symbol": "circle"
         },
         "mode": "markers",
         "name": "4",
         "showlegend": true,
         "type": "scattergl",
         "x": {
          "bdata": "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",
          "dtype": "f8"
         },
         "xaxis": "x",
         "y": {
          "bdata": "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",
          "dtype": "f8"
         },
         "yaxis": "y"
        },
        {
         "hovertemplate": "color=1<br>x=%{x}<br>y=%{y}<extra></extra>",
         "legendgroup": "1",
         "marker": {
          "color": "rgb(93, 105, 177)",
          "symbol": "circle"
         },
         "mode": "markers",
         "name": "1",
         "showlegend": true,
         "type": "scattergl",
         "x": {
          "bdata": "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",
          "dtype": "f8"
         },
         "xaxis": "x",
         "y": {
          "bdata": "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",
          "dtype": "f8"
         },
         "yaxis": "y"
        },
        {
         "hovertemplate": "color=6<br>x=%{x}<br>y=%{y}<extra></extra>",
         "legendgroup": "6",
         "marker": {
          "color": "rgb(82, 188, 163)",
          "symbol": "circle"
         },
         "mode": "markers",
         "name": "6",
         "showlegend": true,
         "type": "scattergl",
         "x": {
          "bdata": "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",
          "dtype": "f8"
         },
         "xaxis": "x",
         "y": {
          "bdata": "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",
          "dtype": "f8"
         },
         "yaxis": "y"
        },
        {
         "hovertemplate": "color=9<br>x=%{x}<br>y=%{y}<extra></extra>",
         "legendgroup": "9",
         "marker": {
          "color": "rgb(153, 201, 69)",
          "symbol": "circle"
         },
         "mode": "markers",
         "name": "9",
         "showlegend": true,
         "type": "scattergl",
         "x": {
          "bdata": "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",
          "dtype": "f8"
         },
         "xaxis": "x",
         "y": {
          "bdata": "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",
          "dtype": "f8"
         },
         "yaxis": "y"
        },
        {
         "hovertemplate": "color=5<br>x=%{x}<br>y=%{y}<extra></extra>",
         "legendgroup": "5",
         "marker": {
          "color": "rgb(204, 97, 176)",
          "symbol": "circle"
         },
         "mode": "markers",
         "name": "5",
         "showlegend": true,
         "type": "scattergl",
         "x": {
          "bdata": "Zqz2ruoY+T/sjoEC18LJP90CSq2hnwFAeMF7GMXoGUBbxRovF88EwIjNJUvPN82/fiW1oCItE0AyvSLQrY/wvwaH8zzHQA/AmJTT2hOHAsDNCLJml/gBwAvUzmEY6AVAU9oGITp7779I/MwyrkQLwBJrykGJaB5AFOU6lBjH8T/NgEUWTrgTQOyPZtTLgKi/WwYOh7eB/D8dWmyirtLlv2zFir6ETQzA9wzWzcb0I0AHBCyX0qj3v3ym8mtSsf4/EY8nSQpdEcA8oxuXG2v/v+hUaulhKQzAVXQkK9ENDUD0pC6uiQ3vv9FxeF1nEv+/ruVfqDsTtj/1Z2A2yGLqPxUybaCHiBDAlLsZyV7//r9Ah1G/3Ofzv9NnEkHpbB9AcujtdhVtFEBnD3jcoIv9Pwt3kB2N8yZABY/4JG3M8D+CzXwaQggCwJPZDjumpQfAWIZaX6Na5j99NxfTODHGv02MYZ22BRfA8QyDNgMD+z+hIClyp7QJQGMPraSVswlAPlcjnkF1BUAlp46z0vHmv06eANgvjOe//poI/PPK6j9iS9ppmlsEwBYjsFR4tt2/whrf3w72CcCMwU3U3zbwP++wLSOQs/w/oHds9I0CCcB9hTUbPvLyv9GeFKhB4BRACM9EvP5rBcC9QzN/9OERQFCEqkouWAPArOYfWHlUD0AHHi20VIIAQGsvn31APxVAVPKJ6KuRE0AktchOErfWvxwCCz4JNvq/PL+0nI3oFkC6NTt4sSrBP9ND5Iw4lALAWwXZ54Ty879ub2nNKAPAv1Kt90ysWAFAi+9yx22TEMDIPPnqI4Dwvz4PqMnNBu+/Bf4v7z7X5L901dnCq+4EwIvch2t/URPAAJPkvUwZ8L9mFFkiBeobQPrrhRkga+g/T9M4mFS777+skvpnqbfrP0IafZFuARpA+AkDcgrDC8CxjskpA80IwO4/LAJd2gzAONxq1Bvz/r/2FwLATlIGwNDZVRcK9wjAucLCXqQrBMB/i7wyDYPkv/km6VgBbsE/K/5ZbTuXyL9WR+sqR38QQNLjt8h4au8/TgVhgFmV5D+oQ/A0OIAQQMNR8eHqPQDACpTVcHrA5L+qZMCUqZASwH5LjS6b6ArAkK5dWs45FEAJhNsuqCUBQOA3WX3j8LM/lucAJtK3EcCEWxqVRD8MwJbrxXHLNwzAbdqdnnqN8T8OFkxKrmf6vz4Ha8ODhxbAJA6V3qZj6L/QvmHIITbxv6cJ9q/yrwpAD4hNDFBHwz+hx7Sv/hYAQHxkEXugiv6/a17y7zSR6j92gqaa7yv5PyFgB6qWBwfAJtWddbaTxL8GxgkO4Y0AwDVNYPhTS/g/wGsv1e+Q9T9DYLDixVn9v5AW64ExgBPAVAU1heb/+b80hi8Z2HUeQOOf/E0coPy/IjAAFwKKEsAdkTCrHtAXQMh/qB/k/xXAQf5pIXqk/r/TYJAmTh7lv2nbqQvyUgvANkPLEByl8b8fJ6xHEWTYv1lYVgkoLug/55mol2pH6z/qtHgnXPD2P3RvQ0rDQfI/DKvoEH1RAsD/xaMq9k0KQBryGVfQ4wtAj8lrDcTN879RVSAdYaZ0P8U66GcNN+Q/8xOr3ee9zb8p5IX8860JwMqgmWO4+vg/SCcBp7E9/78Yn7u6Pr/8v8vPPdZzPyFA0fByA4IIB8BkjsBPUfwhQCe7lN4IoSZAz1cijIcf7b+Kpigc4A4TQO0z9G0j4/e/5II+xv1j9r8u24gr+UD9vwT+Iw2DXQfAH5nwbu4s3D/VduaJjl4VQAbf79JtGBLA1BvP510f+z/CbIF0YyYDwFbPfMFZ1cM/",
          "dtype": "f8"
         },
         "xaxis": "x",
         "y": {
          "bdata": "3PVJznQuIUCBIX3w0a0WwDRb/NdVmRhA+Vzu6nFhIcDbhoHERcIVwNl6XqXr4CXAVAetWoJpEsB43twcb1rxv99aWRcb6hnAMCxQfH5ZEcCSdl9+qm0UwM4YyTDttyFAfd4sY+eJEcCFnyMK9fIUwH2Zo7Cy8/o/6HZ9hzSwI8AZ9hbHcXrYP5ntUopabRrAsaHrGR2B6D8hzetzxl0fwJUWtnuJfRTAUJ4M80W5CkB+CXDegwkRwCfEVw/IaxjAUrdcAZpzEMDmUtkwQMkZQHi3GH8nsxfAhbFJCGRfEMBuPqWInOAUwNihN5v7Ox/AZRjbEFz8GcAiuAqVK88hwNuJ7kE+0BXAoJaQhS4bEMCk/HK2t9kUwDtHFCuRWghAPjDDxt0mK0Bog6gr5b36v81S8CdnxRJAvKLsEPjfHcCkQvmtvkAawH0EIxjcux7AepjbA8K9GEDtf2V6saUYwATXCVg07vq/Z/2ajGfDJcDlVX7teWYRQDuPMrZNLhfAPCIlqDiNsz/frtnHiaIYwLqcUSI4xR9A/kxCykAJIUCxX0qea2sTwAM0cLmp+MS/5JIgrtQjFMBuefox7gAHQPTJQXpeehvA673krps4A0DDUZz9wy7NvzdFai7kNQ9ArdFROlmECsAA8vooelPwP8majBeZmxzAGxiwqp7XC8CJSg5nlgEeQP5Myl0w5NG/OPD0JYu6D0AR1G6iaqvzv63CwUY/7hbAAtrUjWsZFcDeI76B99oQQKn6S3Nyuti/Oqhzpgon1r8bp+KNEfulP+tOk6GJEQHA4ivING7lB8Auiw/ocl8XwDgvt+eKfQBAQy6m2OzWCsBL+bgnlT8RwMi9etAcThfAXccCyLVNFUCiZu5enfMLQAKQUyVt6AjAWq6JFGDfBUAenv0OOMX0P3TLEixlcgzAexJp1pDMB8CdDeDFJF8fwMXrNzwScxTA+i4Mu8uaGkAtMabnePr2v7gx3F+DhxvAwHCjTyjs4z8+6F42M1L5v8prHxaFphXA/dbXT7fXFEBNL5CbRKwKQBfnx3pcjhLAbknRG8R9CUCxI6KlI+P2v+Fr6fHyNRHA7qAnjaL8GUDh4J01MYjkv7QQNaxZb/Q/PIZ2nDh3G0AKi6cIa58ZQCKiTbd4hRNAuvzAKMNP+j8awo7DWoTkvzvXy/2B5AnAN3JqF7ZsIsAWzRQLWGoRwA6vVbWMSgzAosr0eUJ2GMCszTSby231vx2yrrI3RLY//yziBwVoH0BqJDZbDoYXQJEcvXAC4BFA4gPYaXhPF0DTz5xvkVoIQBWifwMwyQHAagaF2KdUHkANWFn5mqEYwLrZPA0s+RDAZEnVF4j4FcCyZvjFFAzyP4btnAbT9RTAK22FJSFsEsBqL5u+k/8uQI5ZNxd9a/Y/Q+UieihVBcBBnkGtjiUWQPebOeMtgRLAGk25bB2GFMA2CSF9GYatv4MaoF77NAvAQFVX5VFO9r+uKM+JrZgXQAYTYdlXSBDAgiCON7SVBcCSOgZ/5MT6v5QQef3IghRA65KMjdaRCEB2KxWaLH0XQJR2assnnQrAHDcPNyoo0r/aucz9Uji6P+d0ND9MTyHAkqYsZm+pG8DBJP7gLGYEwI/WZovcvBZAbop+Lb6vFcD2Z819PzETwD1bAxXmNQHAbcbkTP5lCMBSCjTOYCgIQC40S8/dSiTAIxeYpMIIE0APZ3xtqlIrQJ9U//OiXfc/MkJf3lyQEMAld5j673AawJgRGFE2XhPAxWEEClMHIMA0RDXeYOICQBVu9qDG8xNAgivjaRbCGMAaUqCiIe0CwIMLJfEm1xnA",
          "dtype": "f8"
         },
         "yaxis": "y"
        },
        {
         "hovertemplate": "color=3<br>x=%{x}<br>y=%{y}<extra></extra>",
         "legendgroup": "3",
         "marker": {
          "color": "rgb(36, 121, 108)",
          "symbol": "circle"
         },
         "mode": "markers",
         "name": "3",
         "showlegend": true,
         "type": "scattergl",
         "x": {
          "bdata": "F04MP3xfC8DwlN+Z4IIOQCGDmsoWaRdAlwWNwQtWEcCIHtamijj5v6KvOz89OhhAykCrejq7GEAFwJLvbsXXv+S0UsjWHAlA+VHWiCu3DcBkxZuTwpYVQFuo+hzt7whAQokPfo+1BMCmK30HSTwFwCu2RrgakwRA0YYKiwZr9j/BsSyELw34PwFcFtIQivi/sAE0cTzlK0DAdQbpngIWwPxp75aKsgRA62RTbyJTAMCwMbovY2T+vyv+XpjDVBVASRykyNrXGsCUKr4wQR30v6K7y207s/a/IkdH/yKGDcDXfm2stYsYwAH/9lsn0uO/oTjRzE8MEsBD0kYgyantP4G5Q112HAFAEMTNtaNU0r8n6hEkPeYawGh76JpsKw3AKjkcnkGLAsCdrPXlCn7+v477tK7nbNs/vkXYJkyP9b8DnbZPuAD1P+OFLsx+uhPAjljF9cZVDECYcZjRGVjjP7BqDo3IsAHAvLUBRRzH8j/iLRogQlIkQF//SYoSVQdAfjLCpItyxb+Yxg5qeoodwAHdwWYMRQXAY3JYN6EfF8ATTulRl+7nvwBtqbxvheG/B67rKNjjFsDAjfE9WUnWv6hiagTBEvU/mbybOx1BD8AKjnZb2JQRQFtwzPg6RfS/4XsQld3zD8AjWawYZLoRwPykuRskdQ1Arp5GGfAsAUCtiRhCJdb6P5o2IGHIYfe/X8C/d4g5EMBtWiwrSLsGwDrmrDt5kQnAhLxuzaiBEECdWxfBoaj4v7415ffUvwDAlhZY7hi8H8Dd2xcaSwnzP2XKlroq/xDA/MfY1qq3HMBsCEuAHZcAwHu3zyzxGJ0/NvcmgLH/HEAY93h6pp/gv7asw8rAIQ1AOA9cZqAWD8Bdh4AwvdwIwBv38VWOEwxAeLHK93jj8D+uD6dv2RL5v6Zl1TSWF+4/GMXw7BUIFsBifKz5ICLfP2CAKvkQ8hhAHYKUml8r8D/SuE7K/14ZwGurEI39ac6/DUo/Wjdy+z+1Cl1irpbgv1oKt24H/BLAuAjaemJaC8ARGCqTPe0JwLaike2Whrw/Q9hjSoK/BEBCVKpqVurRv/oM9ODCIxnAWe1jACAsEsCwgdxaP0YUQHbe3s+JDyFAM+sZbqczDMBSzYVt1QMPwAoMJsacDfy/sG/0C1ZZCkBJLusH288FQO10bZJejQJAoUc3TUYM+j+g8CtDixMXQMuk5kGEpf6/mgJGb7FLAkC58EDbqqXRvxG82OzFswPANXi7CfYAB8AXv0fW/n0TQOS92NRapgLAH0b+xWmjEECjL7ObXRXPP0Lgm/A1AAnABTQ47r1e/r9cpzK1D5D5vypV5tzX4Q/Aqxw6LSvE/b8aIE54qO0SQJ0pgL3uU8G/7uoZPmqSGEDaRc6Bg/IRwDmXhj/v6QFAMGq4w84MCEAluGQ6Z1gcQA4BQVfRRhbAYAIH+YewIkC/JYNapoAKwNooeDmUBQjAl7frbPYJGkCvNbfoXC0KwFULcoEOFwHApgnVi+Dc8b/biYJHnHoSQF3DKf0MYPO/iyDOV0PM9D8hgDyTBYwTQHawSAMDgxXARezkctNcEcBMhDLOgZwWQO7bz4TNDwFAjrDkpyZUHUBuwDsRPanzv9JA93CeXh3AwhLgjW3g8L8riS2pRewUwARmV1DnhRjAqp8+u2ns7r88T2ipEtEfQJrS0u0jpAxAFB6Dmq8fFsBwnqWrEE4OwH291IoS+/s/U00fO1H9w7/uVOfU0SLQv3cTf/cXHwPAGel0RYKNBECMM/iqGQzIP9nPNAsEAwZAmbQWjJwV5r/h4DmfWoAZwEeA9gr72NK/gmA+Mhkb+T96KVP0zWgJQL5aOSoGe/C/kIlHctUy9r8kwkIEMVEawOGxtE4kDAJApNftki78E0Am9k/2dxz1P3TegVAmqipAZ0VSFf8c87/oEIQ4u8kLwGrsIeHv1grAulxlRaWw+L9eMgxY0nnevy/sYzGkGQXA7K5Srqy8AcBNNNuSt4sUwMU53HsOhcg/llofAmhYCkDmd3+K70ARwAVF3PK3lgDA+3IDmOB0IkDI5ZIGmaMeQJA8IEAKDgzAsosU80gTx7/iZB9EhJAHwPXRjEfNggBAmwoIYN0+FcByctwj2cz3v9ihd91y5fC/Y9mVXin1EEDuef+tm9j/P00OhS4xYQtAekRM3ySA+r9WuiEj41H9v4vdLAQ0bwHAjdq/bb8fEECOxiwCtn7yv/qUSm59xNs/Wr1ZbCbYFcA=",
          "dtype": "f8"
         },
         "xaxis": "x",
         "y": {
          "bdata": "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",
          "dtype": "f8"
         },
         "yaxis": "y"
        },
        {
         "hovertemplate": "color=7<br>x=%{x}<br>y=%{y}<extra></extra>",
         "legendgroup": "7",
         "marker": {
          "color": "rgb(218, 165, 27)",
          "symbol": "circle"
         },
         "mode": "markers",
         "name": "7",
         "showlegend": true,
         "type": "scattergl",
         "x": {
          "bdata": "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",
          "dtype": "f8"
         },
         "xaxis": "x",
         "y": {
          "bdata": "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",
          "dtype": "f8"
         },
         "yaxis": "y"
        },
        {
         "hovertemplate": "color=2<br>x=%{x}<br>y=%{y}<extra></extra>",
         "legendgroup": "2",
         "marker": {
          "color": "rgb(47, 138, 196)",
          "symbol": "circle"
         },
         "mode": "markers",
         "name": "2",
         "showlegend": true,
         "type": "scattergl",
         "x": {
          "bdata": "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",
          "dtype": "f8"
         },
         "xaxis": "x",
         "y": {
          "bdata": "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",
          "dtype": "f8"
         },
         "yaxis": "y"
        },
        {
         "hovertemplate": "color=0<br>x=%{x}<br>y=%{y}<extra></extra>",
         "legendgroup": "0",
         "marker": {
          "color": "rgb(118, 78, 159)",
          "symbol": "circle"
         },
         "mode": "markers",
         "name": "0",
         "showlegend": true,
         "type": "scattergl",
         "x": {
          "bdata": "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",
          "dtype": "f8"
         },
         "xaxis": "x",
         "y": {
          "bdata": "uiEQOKyh47/CzQ4abPYOwKo/QAYafxHAgEHiaOmbE8BbX93BcsQPwCeEe/C6ZPc/sw5YxSNU9b8zaf2nkYvWv1ca1qfxqRjAlQb1td8oCcDB4FqXnAMCwILC5ZcjLRnAH7BQIJ8fJMBonwxX384OwAE7+MKgjdk/3SrHdq6WGcDV/TxW/sIEwCXT8ipkjxPAYDU1kDrh3z/6iNFKMvsNQKFJjZmhJxXA/RPRifDPC0BJG+Bt0U39v0PUQCFXT+m/qo3L0cX5GMCMa6mWjTcdwEMRd4fTKRJAZx/i1wm29T+FaSoPedzYv5mwS8dPQSHAn4faEkn4AEBRPPpAslMgQLV19xSbBea/HRTNU6hnB0BhiNALbhoIwP91VYa3uhPAoEbxmcwuCEAZRO+7g4rJvzACFkPhDARA5upK3xQ4BMAcylzOkmIbwAmelUAXXwnAkFym5Rkz4z93jXMLE0EDQJ4IwOMQMOY/6WvWFbsVI8DzA3H8r+ccwByuqTZBA+O/Cahx4Lt7+b9jqZS+fpP8vxglRVaPiRLABXi9KnQ48z82N54CSPHkPwIqOWmCfx3AxTfb/GZjHkCD6mHT+ooCQDs6P5oLxBdAhJWMRKE+GMBFr6VMDOTTvyc43tMGOCXAIcHk0hLc8L+/YQ83UdHsP5ZyyE3RORHA4d83pNpy/z+SdQBpt9QCQErWV3N7nQDAvpfaeeTcD0C6sRgT4YQIQKu/B9Kn8R/AIal1tWmR3z/I4HCD9L/2P6JUYPdWRMU/cfpZ2cvpEkDAlHfT9HsVQBVPfw1JbxzAzsGQL4gpAcCJH2h3mqQGQP9CUcceIfq/TXuRC+wSIEBzWS2LoAIWwF/Dlh2ofAPAbw7WA93LJUDgj0MGqu0hwGGgEgjXnsU/+sWxN+YcGMDdx6kI2HUfQGa8ezgqrPW/VPGNft/yFcB1N5NMGWkKQEGhvoY/IhfAYLaPCFmdJsAtSh/DSGUiQIqq+8fOYBFAlV2jRdGgAcAJC7TTYjcSQDVwTJHHsCLAKiVWhP30FsCMCGmETjgjQOzLZPA2BOi/812yf56r9j/4FyQwB/4ZwI7cbZ2ukAlAarIXBIifDcC8l+F3l5ADQEvitngIgyDAKtaN6TTGAUA6LE9MC3nrPxPVAOFxQ+k/RXwyKPrV1L+3K/yqK/wUQIxzPEhTThFAjTN9MTG+2j+C3Sz49Er7vyUZFI1WzyVAVFSantUVGkBVVtoiEHwTwORmfD1igxHA6xLGXm/pD8Db16D+hy8UwGtYobzIpvy/VOE20i1d4r8khridtTD0v5vYuIXdtBzAg/eGVuyf1L88SkN8lsPEPw+LQYol8hXAXcbitY9g878e56EzA7wXQC4UmRTssi5AGk/h6OhPE8ASuqBnTXwAwGihGkkSKvS/vG6sDBPRGcBka3RShNMkwPuZ2fWlIB/As59vribB5T8lGDTjF1QlQGW2ft5uaRPAIVjLV6yoEkAR39uykiG6P/OAa7NIOQnAA0cx9/eICMC4Uq7EslUGwLUhsKLadATAu6NggGvTGMCcHdNoeykVQBl+/+tipxPAQJyTe4nUCsCQe9E34P4awLLJPG0dgSHAOpebxTieFUA6qvhMC3ccQJQnEwLnwhnAp9SBsB8UFUCr1NG+ItwVQOx2NIX8GBPA6/wgeVFYB0Bv2yeS4FH4P3ZAh+QXWRHARlIMFyKqGUDvs+PmvskgwIjo/nkiNxfAu/Jqqq+LDcACITbeXeUSwCOg/OPSDALABufYVMij97+Fp3gPbEELwIn64zN/4RnAa6SsMSlFAcB5MMyd1wwDwFs0uVuFySBAKLmuDN/eD8A+s0hzxi7eP5d6SMXNLL8/IzcBLIYTC0D5Ckv+K4sqQOBU04t+AfS/WwjcQBc+HkChCfNACJ0oQEFx2084+RPA5b3HY4BI/L+nvF5iynQAwCZ5/a0otBnAalgI1o6utT+F0BDz3zYQQDVnTb7RTgbACGVXCRSu3j9/jwQ6xjoUwCWq36dFGve/Gp9CI1k+DsAN7Qn+UMUKQHWg06N43Pi/hZT2op9RIcAQdhy+uMXsP7aomPAeHBhAOVgd+0eiG0Da90oikHfuP+zEJMB+5fS/WVywbEq1HcAX/lxTiVMQwMi9LxATYgrAgnVwGRKLIkDnvSzl3RERQL2JnVNdefe/HicO9lE/GMDj6UgJeGMSQFcoCo3Z6R5A1rp9nySxFMA=",
          "dtype": "f8"
         },
         "yaxis": "y"
        },
        {
         "hovertemplate": "color=8<br>x=%{x}<br>y=%{y}<extra></extra>",
         "legendgroup": "8",
         "marker": {
          "color": "rgb(237, 100, 90)",
          "symbol": "circle"
         },
         "mode": "markers",
         "name": "8",
         "showlegend": true,
         "type": "scattergl",
         "x": {
          "bdata": "NbiKAuU5AUBbO8jOggcWwAlGMPQ06gzAFO5HTku4HUB6b74T/rANwJI3uY4Ctv8/FirwQEjqB8C3HDT9e7kLwIr/64zt7wjAT5ktBylbE0BXHCTgf7QJwFq1W2tSpes/J4umliFf5L8+9WiuUxq+P//GfMr9pxbAB1wAISRx+L9xdPVZLHMKwLq/m5cc2QzA5WAtHTYvAMDK4mzVhErsv0UVi3fDtwhAoyHN2MoRCsD+iqwGcc4IwF502A53XAnAQ8eTx4+48r+pjKFU0jkTwELj8tVtqfK/qCBo938bC8DgIVttnnbrP29yoQMEeRNAYGJ3R1mB97+PP50V4vQSwIgSiQGB2RDAat3IiceD9L8Dd+AjZUX2P1x2zJO7xhLAttPxEOtcEMBZSnGLpzMIQD84vnxq3xTAzzJdckNhEcDLeZmKZkr2v4azB9KqYPm/kDK/ipvC6z/qDU6Pr5ARQKS8tLxEAvi/pCXR/+R74D8kLSSOLJYQwE+5xOdWohLAbX92QwZB9z/Puub8k48KwPxBCWiIeyVAL67joCxuvj/7nfxHaYwJwO8ZD0bvyv6/SxZYl8k98z8OJKwa3KwjQJHYOYp73hXAMNjtIU3cKEB5wSlvVEnzvxOf4eNpNNm/B1wDLrQuGcARzQTDZ8AQwLUuIGd3ZgHAJbuEdNwcFsDh5+Bz02fav6phAF03fdA/sX313fWlA0AMsxXdu+/tvyph6k95/+O/y+6xPsl6/b/tvN9ujaYiQAQsi4nnwAPAbz1ndmULAcDiD4VB878NwJFDp38vJAXA5c15mjY6BMC4iCTTprAHwIynejOKsvW/BBYT78q4C8BG3DM5mU4dQJTaUwC0nPS/9LTARIwgC8CLuVFN6ZYHwN6b63hmIve/XxIlNZfEAkAsg7PjZCgQwAeQT3AcviFA6yC+jre+EsDZKdH0wlsPQMTtQWEJN/M/BUTYGnSdAsC/BV2PrCrqv6AEVCNrRwXA+gUbkhFl7r+txRTkqCYJwM4UXAu/hQHA2nQ27UyvE8BH3icNuiIEwMm9F4FnSBPA7LOTyrV3C8BRwx1Ha3/+P8T6ugUVK/Y/paCcw4Dl9z+fWdLUk0CiP6/KV6DiaPG/8dH+kedGEMBKvmQnsF8IwP705ZSd1sE/4zRM2E+LGcBZa2faIt3vvxaU+brQQADALDt86lFJE8ACPQjP6+8AwOXJO/7BkR5AXFMeJ4UvKUDTZUHFwWnpPzlcLM4yjCFAqXCjtVzSAUBjH5JBw4b8P1MkzoghqQPAAbYX4waXGED4avSlJfATwJotxEbPGxfAww4pUE9i9b9magoYXIESwAbNzp+p+w3AGDDpl1ECFcD9pbdbzYisv4Y2cp6O2QXA6YoUKANDCMDfMttpKg//vyVyLFyojfK/LXXCJvTYEMCbEm5ewIgMwNy1vkv2IwjAjMM3uD2DFMAQdb+21GcZwAdzOSUDYgjAiVU7iRmyAcAFGLQVsGkRwG5NLDLuyAbAOnSvJ9u78r/pDPMZhKsMwH+ZkrOEiRTAxBvv6OKgAsBX7sV5IfcGwJm4fx2hAAlAahqyAK8TDMDQgY6QhQAEQHrvBx58NAHASl57mIC6HED1wGdMGK4bwGcJtbmj+vm/fdXQnv+nAsA33fS3cxASwEphZhiJR/0/W4cydIcG4j8YnZzZAQQFwB8sxUpyh+u/QZtEP8jzEsAZNrHcWqAVwG+VjFaECwjANUScnLd6E0A755xXCNsRwNucFseQRhDADjdKFESYGMBbmGk7Xfzov7305OsEc/4/KS8V7Vu7DsC+YSFYrV4LwLIU1L3ICw1AR2Bn5TDmAcDckCt1PLLbvwDvOvJd1AXAke7kI6poCECndrAIOYT3v4eyQ9L5L+s/K6BgKCfWjL/MD9FOwR4OQJf1VCqQfhDAHkTe70B4EsB8sWUanPgIwJDKYmb7tBHAe456g+9e578zIcKcMzr2vw==",
          "dtype": "f8"
         },
         "xaxis": "x",
         "y": {
          "bdata": "HsQt6rZw9z+JnfkuTYHgPzoKmMGVytC/RXgiJUCCG8CJv0+58rfpvy95vhYDvuQ/1slWImNH6b/hlPlubhkVwDaj1Liq7wXAJS2m6ks9JEC9erORjkv5v880Eqg8nRnAst26i5u6/D9dtINbf1IAwOO6E6DrTuq/hLPwUks4D8CYYv6/2QgOwNEnzDtdkB5AnNeojP4A2z9E1mx6ql72PyxKzWySVhPAqYV1+FglDsD8VJrYl9TFv/MHXLGiRRxAwwclxrK5GsDQtltIybf6v5z+9oEngQ9Aokc3/2lMmb/WeBxSuvrJP3dsyKOP99g/s0UAE9RdH0BricZWOmb6P4N3sapKuuU/4xguNQJGC8DHVH/M/BcRwK7x890tTA9AiAQzm8pj0L//dKTZwwXqPy5AcUE70ec/SFIgp/8JCUDtg3KtZXwVwMycMUrV4h5Aoazrh1MgHMAtNPGte8UEwPkk8sxvOBjAfNXgASEEFEBJhqd5z/f2PzW6gOWqB9K/11wrDsoeJMB1eBBgmKcJwG/u0otrHPY/vBT9dZGsGMC4qDI2SA0XwC2exr8rbwjAcGqCdWWRFkBaYzaJtQccQBcaiG1ehuI/7LJnfFCSFcC1lRKnhtv3PycywZL1wAzA+N5Ow8g/9L82OTAahM3av7UJcjVCPCDA02Z8GVY5EMDQ9x8y3kv6v3n2YYmhBeK/WEffNJUhHMBHjLltmQMSwOHTjyKq+vm/W/dW/hYn+L+lAqgIXtkewIp5py89zxBAQxUZMDlpFsB4m7yo+QPxPxrOfWl0ORZAdc/ezdi+FMAXVaZRghrXv4JlzoppDCpAzoROKEC5BMA9JAHuJCkdQKZE8nAo1AvAMLfeZkDHDcC0ckxo5ITdvxvhFeSXFhfAxvoo4asaHsCL4pu61vPmv4RarXCLEwpAaYFhf7L88L/xlEuN/HsJwO8kMMyiCRzAZ4dDH51i37+OEQw1FAgNwGpUZBFo+v+/AErizdPPFcDxJwI9RpcdQJzTvRCNVhNAlOYgvVMSEEAPXzbl5Gv3v3Rp6oeltg3A5Qn7luz0DUD9+Cu2e8zaP6GiSGlrqQBAFDMakyZYDsBfGZamaO4LQOc356E6SxbAaEKyZQreFEDceecS1McCQM424h7C5QbA2PN4ikovur/92jgjv0vJvxEV3USsfwnA5nHl0sd8FcCss63Vs1UVwETCVVnwzOW/bbTJTP808b9l0CjBDbzCP8Q1aCCB+w5ARz3IELl6GcA8cdrqwL0bwEC//zNbbt2/vsd7brLsF8DwS0W7o1LyP+k1Jaqwq+o/smPPM+qdB8CKF7dVbVgSwLJMFOrQIwfA0t5OAjN0C8DlXcAeeg4gQCTVB0GpdBTAZLF/dKPxyr/maH/xl7rxP8fLcXackgZA6xbT7D8I3D/C3HGIRhkQwIL2DDA6beA/eY7lqWWsFsCda8oxk6QHwCDPyQ+TM/e/IF91qbNw/L8Z8+dm52zxP1+rSadpHPI/RMt8BlE/AsD19kPKTuvTP869TzjzPAPAf629azvOEsDb8FSoKQfHv8vxjb1PBee/y2fMAcwi87++b1vj0MoawMPGReszMBPAepqTGhCvHkCj8scufbsOwPCWaHUIjhrAVJzBIXLC/j9SDFfiwAASwEfQDrnFUhnAEKWQ7WnZFsBF1EEdii8dwEN5bQpFwg7AFvk7XT7f/L9WMaJEsboHQJL9K4yOIde/a4/ScjDgIsDk72lBYoQAwHW1+d6UEBXAKOMU1bJGAMCK4q0hMVEawCTZTIZp/gvAGYdP1dJYFsDahNI5+4/uv8NpYWUyVPk/ClPKjNUn/z9xI5RPpyEZwLnoSKbtuyRARSVxqNztHcDE2nmOfvkNwBwWRK0nyP+/hF+9e5m2EcClFg/ls+smQDIUSoIL6gPAFU8F1e3qEsCwJmBDtr0hQJieniTlmBBAlHjR1Ep4CsCa3b3iFpITwA==",
          "dtype": "f8"
         },
         "yaxis": "y"
        }
       ],
       "layout": {
        "legend": {
         "title": {
          "text": "color"
         },
         "tracegroupgap": 0
        },
        "margin": {
         "t": 60
        },
        "template": {
         "data": {
          "bar": [
           {
            "error_x": {
             "color": "#2a3f5f"
            },
            "error_y": {
             "color": "#2a3f5f"
            },
            "marker": {
             "line": {
              "color": "#E5ECF6",
              "width": 0.5
             },
             "pattern": {
              "fillmode": "overlay",
              "size": 10,
              "solidity": 0.2
             }
            },
            "type": "bar"
           }
          ],
          "barpolar": [
           {
            "marker": {
             "line": {
              "color": "#E5ECF6",
              "width": 0.5
             },
             "pattern": {
              "fillmode": "overlay",
              "size": 10,
              "solidity": 0.2
             }
            },
            "type": "barpolar"
           }
          ],
          "carpet": [
           {
            "aaxis": {
             "endlinecolor": "#2a3f5f",
             "gridcolor": "white",
             "linecolor": "white",
             "minorgridcolor": "white",
             "startlinecolor": "#2a3f5f"
            },
            "baxis": {
             "endlinecolor": "#2a3f5f",
             "gridcolor": "white",
             "linecolor": "white",
             "minorgridcolor": "white",
             "startlinecolor": "#2a3f5f"
            },
            "type": "carpet"
           }
          ],
          "choropleth": [
           {
            "colorbar": {
             "outlinewidth": 0,
             "ticks": ""
            },
            "type": "choropleth"
           }
          ],
          "contour": [
           {
            "colorbar": {
             "outlinewidth": 0,
             "ticks": ""
            },
            "colorscale": [
             [
              0,
              "#0d0887"
             ],
             [
              0.1111111111111111,
              "#46039f"
             ],
             [
              0.2222222222222222,
              "#7201a8"
             ],
             [
              0.3333333333333333,
              "#9c179e"
             ],
             [
              0.4444444444444444,
              "#bd3786"
             ],
             [
              0.5555555555555556,
              "#d8576b"
             ],
             [
              0.6666666666666666,
              "#ed7953"
             ],
             [
              0.7777777777777778,
              "#fb9f3a"
             ],
             [
              0.8888888888888888,
              "#fdca26"
             ],
             [
              1,
              "#f0f921"
             ]
            ],
            "type": "contour"
           }
          ],
          "contourcarpet": [
           {
            "colorbar": {
             "outlinewidth": 0,
             "ticks": ""
            },
            "type": "contourcarpet"
           }
          ],
          "heatmap": [
           {
            "colorbar": {
             "outlinewidth": 0,
             "ticks": ""
            },
            "colorscale": [
             [
              0,
              "#0d0887"
             ],
             [
              0.1111111111111111,
              "#46039f"
             ],
             [
              0.2222222222222222,
              "#7201a8"
             ],
             [
              0.3333333333333333,
              "#9c179e"
             ],
             [
              0.4444444444444444,
              "#bd3786"
             ],
             [
              0.5555555555555556,
              "#d8576b"
             ],
             [
              0.6666666666666666,
              "#ed7953"
             ],
             [
              0.7777777777777778,
              "#fb9f3a"
             ],
             [
              0.8888888888888888,
              "#fdca26"
             ],
             [
              1,
              "#f0f921"
             ]
            ],
            "type": "heatmap"
           }
          ],
          "histogram": [
           {
            "marker": {
             "pattern": {
              "fillmode": "overlay",
              "size": 10,
              "solidity": 0.2
             }
            },
            "type": "histogram"
           }
          ],
          "histogram2d": [
           {
            "colorbar": {
             "outlinewidth": 0,
             "ticks": ""
            },
            "colorscale": [
             [
              0,
              "#0d0887"
             ],
             [
              0.1111111111111111,
              "#46039f"
             ],
             [
              0.2222222222222222,
              "#7201a8"
             ],
             [
              0.3333333333333333,
              "#9c179e"
             ],
             [
              0.4444444444444444,
              "#bd3786"
             ],
             [
              0.5555555555555556,
              "#d8576b"
             ],
             [
              0.6666666666666666,
              "#ed7953"
             ],
             [
              0.7777777777777778,
              "#fb9f3a"
             ],
             [
              0.8888888888888888,
              "#fdca26"
             ],
             [
              1,
              "#f0f921"
             ]
            ],
            "type": "histogram2d"
           }
          ],
          "histogram2dcontour": [
           {
            "colorbar": {
             "outlinewidth": 0,
             "ticks": ""
            },
            "colorscale": [
             [
              0,
              "#0d0887"
             ],
             [
              0.1111111111111111,
              "#46039f"
             ],
             [
              0.2222222222222222,
              "#7201a8"
             ],
             [
              0.3333333333333333,
              "#9c179e"
             ],
             [
              0.4444444444444444,
              "#bd3786"
             ],
             [
              0.5555555555555556,
              "#d8576b"
             ],
             [
              0.6666666666666666,
              "#ed7953"
             ],
             [
              0.7777777777777778,
              "#fb9f3a"
             ],
             [
              0.8888888888888888,
              "#fdca26"
             ],
             [
              1,
              "#f0f921"
             ]
            ],
            "type": "histogram2dcontour"
           }
          ],
          "mesh3d": [
           {
            "colorbar": {
             "outlinewidth": 0,
             "ticks": ""
            },
            "type": "mesh3d"
           }
          ],
          "parcoords": [
           {
            "line": {
             "colorbar": {
              "outlinewidth": 0,
              "ticks": ""
             }
            },
            "type": "parcoords"
           }
          ],
          "pie": [
           {
            "automargin": true,
            "type": "pie"
           }
          ],
          "scatter": [
           {
            "fillpattern": {
             "fillmode": "overlay",
             "size": 10,
             "solidity": 0.2
            },
            "type": "scatter"
           }
          ],
          "scatter3d": [
           {
            "line": {
             "colorbar": {
              "outlinewidth": 0,
              "ticks": ""
             }
            },
            "marker": {
             "colorbar": {
              "outlinewidth": 0,
              "ticks": ""
             }
            },
            "type": "scatter3d"
           }
          ],
          "scattercarpet": [
           {
            "marker": {
             "colorbar": {
              "outlinewidth": 0,
              "ticks": ""
             }
            },
            "type": "scattercarpet"
           }
          ],
          "scattergeo": [
           {
            "marker": {
             "colorbar": {
              "outlinewidth": 0,
              "ticks": ""
             }
            },
            "type": "scattergeo"
           }
          ],
          "scattergl": [
           {
            "marker": {
             "colorbar": {
              "outlinewidth": 0,
              "ticks": ""
             }
            },
            "type": "scattergl"
           }
          ],
          "scattermap": [
           {
            "marker": {
             "colorbar": {
              "outlinewidth": 0,
              "ticks": ""
             }
            },
            "type": "scattermap"
           }
          ],
          "scattermapbox": [
           {
            "marker": {
             "colorbar": {
              "outlinewidth": 0,
              "ticks": ""
             }
            },
            "type": "scattermapbox"
           }
          ],
          "scatterpolar": [
           {
            "marker": {
             "colorbar": {
              "outlinewidth": 0,
              "ticks": ""
             }
            },
            "type": "scatterpolar"
           }
          ],
          "scatterpolargl": [
           {
            "marker": {
             "colorbar": {
              "outlinewidth": 0,
              "ticks": ""
             }
            },
            "type": "scatterpolargl"
           }
          ],
          "scatterternary": [
           {
            "marker": {
             "colorbar": {
              "outlinewidth": 0,
              "ticks": ""
             }
            },
            "type": "scatterternary"
           }
          ],
          "surface": [
           {
            "colorbar": {
             "outlinewidth": 0,
             "ticks": ""
            },
            "colorscale": [
             [
              0,
              "#0d0887"
             ],
             [
              0.1111111111111111,
              "#46039f"
             ],
             [
              0.2222222222222222,
              "#7201a8"
             ],
             [
              0.3333333333333333,
              "#9c179e"
             ],
             [
              0.4444444444444444,
              "#bd3786"
             ],
             [
              0.5555555555555556,
              "#d8576b"
             ],
             [
              0.6666666666666666,
              "#ed7953"
             ],
             [
              0.7777777777777778,
              "#fb9f3a"
             ],
             [
              0.8888888888888888,
              "#fdca26"
             ],
             [
              1,
              "#f0f921"
             ]
            ],
            "type": "surface"
           }
          ],
          "table": [
           {
            "cells": {
             "fill": {
              "color": "#EBF0F8"
             },
             "line": {
              "color": "white"
             }
            },
            "header": {
             "fill": {
              "color": "#C8D4E3"
             },
             "line": {
              "color": "white"
             }
            },
            "type": "table"
           }
          ]
         },
         "layout": {
          "annotationdefaults": {
           "arrowcolor": "#2a3f5f",
           "arrowhead": 0,
           "arrowwidth": 1
          },
          "autotypenumbers": "strict",
          "coloraxis": {
           "colorbar": {
            "outlinewidth": 0,
            "ticks": ""
           }
          },
          "colorscale": {
           "diverging": [
            [
             0,
             "#8e0152"
            ],
            [
             0.1,
             "#c51b7d"
            ],
            [
             0.2,
             "#de77ae"
            ],
            [
             0.3,
             "#f1b6da"
            ],
            [
             0.4,
             "#fde0ef"
            ],
            [
             0.5,
             "#f7f7f7"
            ],
            [
             0.6,
             "#e6f5d0"
            ],
            [
             0.7,
             "#b8e186"
            ],
            [
             0.8,
             "#7fbc41"
            ],
            [
             0.9,
             "#4d9221"
            ],
            [
             1,
             "#276419"
            ]
           ],
           "sequential": [
            [
             0,
             "#0d0887"
            ],
            [
             0.1111111111111111,
             "#46039f"
            ],
            [
             0.2222222222222222,
             "#7201a8"
            ],
            [
             0.3333333333333333,
             "#9c179e"
            ],
            [
             0.4444444444444444,
             "#bd3786"
            ],
            [
             0.5555555555555556,
             "#d8576b"
            ],
            [
             0.6666666666666666,
             "#ed7953"
            ],
            [
             0.7777777777777778,
             "#fb9f3a"
            ],
            [
             0.8888888888888888,
             "#fdca26"
            ],
            [
             1,
             "#f0f921"
            ]
           ],
           "sequentialminus": [
            [
             0,
             "#0d0887"
            ],
            [
             0.1111111111111111,
             "#46039f"
            ],
            [
             0.2222222222222222,
             "#7201a8"
            ],
            [
             0.3333333333333333,
             "#9c179e"
            ],
            [
             0.4444444444444444,
             "#bd3786"
            ],
            [
             0.5555555555555556,
             "#d8576b"
            ],
            [
             0.6666666666666666,
             "#ed7953"
            ],
            [
             0.7777777777777778,
             "#fb9f3a"
            ],
            [
             0.8888888888888888,
             "#fdca26"
            ],
            [
             1,
             "#f0f921"
            ]
           ]
          },
          "colorway": [
           "#636efa",
           "#EF553B",
           "#00cc96",
           "#ab63fa",
           "#FFA15A",
           "#19d3f3",
           "#FF6692",
           "#B6E880",
           "#FF97FF",
           "#FECB52"
          ],
          "font": {
           "color": "#2a3f5f"
          },
          "geo": {
           "bgcolor": "white",
           "lakecolor": "white",
           "landcolor": "#E5ECF6",
           "showlakes": true,
           "showland": true,
           "subunitcolor": "white"
          },
          "hoverlabel": {
           "align": "left"
          },
          "hovermode": "closest",
          "mapbox": {
           "style": "light"
          },
          "paper_bgcolor": "white",
          "plot_bgcolor": "#E5ECF6",
          "polar": {
           "angularaxis": {
            "gridcolor": "white",
            "linecolor": "white",
            "ticks": ""
           },
           "bgcolor": "#E5ECF6",
           "radialaxis": {
            "gridcolor": "white",
            "linecolor": "white",
            "ticks": ""
           }
          },
          "scene": {
           "xaxis": {
            "backgroundcolor": "#E5ECF6",
            "gridcolor": "white",
            "gridwidth": 2,
            "linecolor": "white",
            "showbackground": true,
            "ticks": "",
            "zerolinecolor": "white"
           },
           "yaxis": {
            "backgroundcolor": "#E5ECF6",
            "gridcolor": "white",
            "gridwidth": 2,
            "linecolor": "white",
            "showbackground": true,
            "ticks": "",
            "zerolinecolor": "white"
           },
           "zaxis": {
            "backgroundcolor": "#E5ECF6",
            "gridcolor": "white",
            "gridwidth": 2,
            "linecolor": "white",
            "showbackground": true,
            "ticks": "",
            "zerolinecolor": "white"
           }
          },
          "shapedefaults": {
           "line": {
            "color": "#2a3f5f"
           }
          },
          "ternary": {
           "aaxis": {
            "gridcolor": "white",
            "linecolor": "white",
            "ticks": ""
           },
           "baxis": {
            "gridcolor": "white",
            "linecolor": "white",
            "ticks": ""
           },
           "bgcolor": "#E5ECF6",
           "caxis": {
            "gridcolor": "white",
            "linecolor": "white",
            "ticks": ""
           }
          },
          "title": {
           "x": 0.05
          },
          "xaxis": {
           "automargin": true,
           "gridcolor": "white",
           "linecolor": "white",
           "ticks": "",
           "title": {
            "standoff": 15
           },
           "zerolinecolor": "white",
           "zerolinewidth": 2
          },
          "yaxis": {
           "automargin": true,
           "gridcolor": "white",
           "linecolor": "white",
           "ticks": "",
           "title": {
            "standoff": 15
           },
           "zerolinecolor": "white",
           "zerolinewidth": 2
          }
         }
        },
        "xaxis": {
         "anchor": "y",
         "domain": [
          0,
          1
         ],
         "title": {
          "text": "x"
         }
        },
        "yaxis": {
         "anchor": "x",
         "domain": [
          0,
          1
         ],
         "title": {
          "text": "y"
         }
        }
       }
      }
     },
     "metadata": {},
     "output_type": "display_data"
    }
   ],
   "source": [
    "import plotly.express as px\n",
    "\n",
    "y_train_transform = y_train.astype(str)\n",
    "fig = px.scatter(x = x_train_transform[:,0],\n",
    "                 y=x_train_transform[:,1],\n",
    "                 color=y_train_transform,\n",
    "                 color_discrete_sequence=px.colors.qualitative.Vivid)\n",
    "\n",
    "fig.show()"
   ]
  },
  {
   "cell_type": "code",
   "execution_count": 151,
   "metadata": {},
   "outputs": [
    {
     "data": {
      "text/plain": [
       "(2000, 3)"
      ]
     },
     "execution_count": 151,
     "metadata": {},
     "output_type": "execute_result"
    }
   ],
   "source": [
    "# transforming data into 3d\n",
    "pca = PCA(n_components=3)\n",
    "x_train_transform = pca.fit_transform(x_train)\n",
    "x_test_transform = pca.transform(x_test)\n",
    "\n",
    "x_train_transform.shape"
   ]
  },
  {
   "cell_type": "code",
   "execution_count": 154,
   "metadata": {},
   "outputs": [
    {
     "data": {
      "application/vnd.plotly.v1+json": {
       "config": {
        "plotlyServerURL": "https://plot.ly"
       },
       "data": [
        {
         "hovertemplate": "color=4<br>x=%{x}<br>y=%{y}<br>z=%{z}<extra></extra>",
         "legendgroup": "4",
         "marker": {
          "color": "#636efa",
          "symbol": "circle"
         },
         "mode": "markers",
         "name": "4",
         "scene": "scene",
         "showlegend": true,
         "type": "scatter3d",
         "x": {
          "bdata": "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",
          "dtype": "f8"
         },
         "y": {
          "bdata": "/ij5L6XdAkBlH3hUjPLyP7aj+sD4qQxAI+kW2VBqGUDQsAfOeFL9v4NRmiW4uQDA3IhhlOubBMDksrPeT5/0P8o6QR0hSvI/Ywp6XFLp6z/zGCZzpIANwBM5Ff9s5DJAoPtxt1HHC0DqpI1h8J4jQK+RHg+qrhRAdript9HQJkDtaQU9SX/zP2/C8trzU9M/EsCIbtmp4b/xi2oJ3woDwNzYOJ/GcBPAY1MatPIWBkC5RognwpTqP8UDfWH/VQLAPhiGheWCAUDTYdoIMfb4v79hPqES4x9AucqcmKL6zb8Co9vvMcMBQMckMy8UQTFAQ637fhqf/j+6rl1f3Q0WQPdjUsFL/Pk/X7GKV7EjGEBmZ3qXh44RwA649pKqfQxAJiJhlbw+CEAV/1+fI5rQPzFOTxqRlhJAdIbnlHJgBEDcFmK4UUkRQDmEwu/68fO/LUmwTSZyAkB/Yp03ESYtQPNlKTIItwBA50G48kNkCcC1uwXfbeL/P2QWTS2Mew5A4DQ41oEJA0CTf6l+RvIGQJnsX1xB8gxAyUyLO6n04b8eYG1z4p8MQPWrzLG3pPs/qFD7LbuwEEDZY9/9H17uv4wbTpbAXP6/sNqGsNeuBUAhvFw9lCLQv8ejiJb2OjBAI/183q1u97+wVA2/JWnuP+M2Z/+e5wLAhfZkLOLJGEBz0x94KF0KQHVSHswWUQ5AMJDqsbhD+b+3g0lL+tQAwLpGcaAnHvC/tDRRPNbkA0DH5gWT1jP5P2AZjd90gQ/Au2Ww1bLv8r/kgHpVasLgvxsYKkLw6u8/b2N7ayNjHkAFNLkUL68VQIjuR8+rT+2/xyDalyRe+D/OOwgHeCcHQOjm7zFN9RhAOZ5atCF0EEBHEpQvJucxQELS1S+/EeW/KEN3UBiD9j/0l72cCS4AwD7imdwNMcO/5CPDmLT8HED1QeqnOYoSQJ1SYnUcW/4/O2o0JUlQGEAcrBtOHV/7P2HE92wgrSRAonnm20xEoD96YWbymtspQF9+2iqnBRdAT1IDrtoTAsDmkhO4QH4RQOFjfH497/Y/nShLi6o6EkDHuCDVMMojQAA/deqWTR1AEdA6l0iNCUDyFHqOZiAIwCSGfyHwMwhAg4D6M0b4JEBxHFrC6GohQM7XFkZECRNAHPvFaX+QG0BxY0iE0Kw1QB0F8AHgRwtAxzlTWTmmK0BUlPYhD+D7P1Q0z9wA8CFAk+Ycq3+hAMAgwX8r20kMQOIEc+9L1t6/UKMTRYXc/z+tQsBVXzX4P1anrKS5pAxA+A+KEOHc8T+92F6lF2EbQBpKZbbVp/0/vumscV/r8b93oAhaVmW6P9gJNLOebfo/K9MGEDgiAcCCI6PlWKUBwLmoIw7ARATAxzc4279nHUB0NeMUup3kP0NZHNNJWBxA7uetJhWZGEDxunuOtbUCwCYT/hY+8hJA7HYbHQNTF0Cx5Rc/zPQAQGedvXusVau/rGvGzsdE8j9634rE5AXVv+AQmSslTv2/VRksE1E88b/GFLgKKYYXQCNJxDOz6Po/SobLVZmpBEAcm2RaR2X9vyT//T0TgyNAqUQMGz6aKUC9kxEWKjkDwIc6BiWhtCxA6Mv5pWCX8b8C+GHS8hMPQDbyirgt8wjApav/e0J3FkB8xjaYzTq+v14eAPjEMgtA1PAByy/9IEAbDiOa+mILQP6K+HA+5QLAnlO2lMUnCMDkj2eb07kjQIAZck0k4gtANTlUn+tuHEC4ArQZd0YmQDQ2mHmIewdAT4E0JJYZAEBIAyXh0m4NQFSBJas6zhJABeK0gcM18L9SAaqV6Z02QOttl5evXwVA2YxNIXJBA8DrrqHoqmbeP2nSLYMFhAFAZUNyp05eJEDRwbudlArCv6H0qGANZdk/hkZ63arFIUCu36l2HzEMwA43coe6URZAe2iC/oCiEMCSiUlh1x4MQAbA1bYEoCFAuy/Tdwz0B8CVSQzJCiMOQH+zNmI9z/Y/5g+zEqatNUDF4VVaF90aQCXh0uHZkBBAD1Lk+Fstt78RezsYwcW2P3+vU0/L8iNA",
          "dtype": "f8"
         },
         "z": {
          "bdata": "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",
          "dtype": "f8"
         }
        },
        {
         "hovertemplate": "color=1<br>x=%{x}<br>y=%{y}<br>z=%{z}<extra></extra>",
         "legendgroup": "1",
         "marker": {
          "color": "#EF553B",
          "symbol": "circle"
         },
         "mode": "markers",
         "name": "1",
         "scene": "scene",
         "showlegend": true,
         "type": "scatter3d",
         "x": {
          "bdata": "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",
          "dtype": "f8"
         },
         "y": {
          "bdata": "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",
          "dtype": "f8"
         },
         "z": {
          "bdata": "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",
          "dtype": "f8"
         }
        },
        {
         "hovertemplate": "color=6<br>x=%{x}<br>y=%{y}<br>z=%{z}<extra></extra>",
         "legendgroup": "6",
         "marker": {
          "color": "#00cc96",
          "symbol": "circle"
         },
         "mode": "markers",
         "name": "6",
         "scene": "scene",
         "showlegend": true,
         "type": "scatter3d",
         "x": {
          "bdata": "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",
          "dtype": "f8"
         },
         "y": {
          "bdata": "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",
          "dtype": "f8"
         },
         "z": {
          "bdata": "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",
          "dtype": "f8"
         }
        },
        {
         "hovertemplate": "color=9<br>x=%{x}<br>y=%{y}<br>z=%{z}<extra></extra>",
         "legendgroup": "9",
         "marker": {
          "color": "#ab63fa",
          "symbol": "circle"
         },
         "mode": "markers",
         "name": "9",
         "scene": "scene",
         "showlegend": true,
         "type": "scatter3d",
         "x": {
          "bdata": "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",
          "dtype": "f8"
         },
         "y": {
          "bdata": "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",
          "dtype": "f8"
         },
         "z": {
          "bdata": "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",
          "dtype": "f8"
         }
        },
        {
         "hovertemplate": "color=5<br>x=%{x}<br>y=%{y}<br>z=%{z}<extra></extra>",
         "legendgroup": "5",
         "marker": {
          "color": "#FFA15A",
          "symbol": "circle"
         },
         "mode": "markers",
         "name": "5",
         "scene": "scene",
         "showlegend": true,
         "type": "scatter3d",
         "x": {
          "bdata": "r/0KscoY+T9C2PStVcHJP6KX9J6gnwFAkvnDebjoGUCOVjhkE88EwOf8qZ2iOc2/swNm2SwtE0AcAOzXqo/wv8MnAjLOQA/AkLga+v2GAsAkhiGnn/gBwC2It6r65wVA7crrHPZ6778bbo+rpUQLwAU/AluEaB5AHlv+A+fG8T+qs2v6TbgTQIbzBz/Ngqi/JonMFMuB/D+9+oJITdPlv214ebSNTQzAmmI9vsz0I0DocACh6Kj3v7q1bWtMsf4/P6tW1gZdEcAO2zh9Pmv/v/V3FrRqKQzAD6QqHbwNDUBih1Pw6g3vv4UfulqEEv+/D7ZUzGQRtj9FekCGoWLqP31ud5GIiBDA9K/XhW///r/Ti3Qd5+fzv+r9TtDkbB9AYa26NAVtFEBrlE5kqov9P3G5V/iI8yZAv3gO7EzM8D98/YQpQggCwH3D1DSqpQfAn4A3n1da5j/2aQx1cTHGvyrlXOG3BRfA5HlZ0dcC+z+WO0O9pLQJQFoqlWGUswlAfQeqyTt1BUCJYOPf4/Hmv8wk4C95jOe/9s98DJ/K6j/RBbo0lFsEwFWd4dtAtt2/WWUVdfj1CcAoGrit1zbwPxZ//YJ7s/w/qdaN3JYCCcCVGBowNPLyvwtrFRFE4BRAbFVbUeZrBcA2tkQy8uERQIiZCKU7WAPAs07JOGtUD0BVcD2lV4IAQByUtIhAPxVAgR652Z6RE0ATyaeE57bWv/+BO00pNvq/p1YeS4ToFkAGpB1CqSrBP3T15HtKlALAK4m8UIvy878G5BulKAPAv6Akv1e7WAFADy8IUmaTEMBHMfJx4H/wv5V/eLb/Bu+/S9vgg0rX5L+guG5Dpu4EwMuq5C2EURPAhVE13GoZ8L/mbENh/ekbQAw8ijHmaug/snrePSG777+6bckbwLfrP+452RtuARpAVbYVlxPDC8BGM8RDBs0IwLSGJnhB2gzAa1x3TCPz/r/wNZkNSVIGwBiyol8z9wjAicq4SKcrBMAIZMlZNoPkv8jRBw33bcE/lqGgYZWXyL9oO6StQH8QQIQwmbhnau8/3TQMy1OV5D/7NLU5OIAQQKYNYAfiPQDAUJN/PKjA5L+k1z7lrZASwLYrvOaX6ArA9dgzXcg5FEBB5eqCmyUBQKSjPHt077M/D+eLWda3EcDtF5wVNz8MwGzsB5fJNwzAHeqE53yN8T95RJr0w2f6vwfKt4iChxbAyS42BeVj6L8d1mrzOjbxvyZcPOL5rwpACcNjlcBFwz9EaQ5L7RYAQCYRn6+wiv6/NV46MSCR6j/XMR3b1Cv5P+yM3zOcBwfAVruZm9mTxL8nIpp/+o0AwD9+u3unS/g/oPBLue+Q9T/rzBYj8ln9vwz/8No4gBPAOtBJZff/+b/0M9C8z3UeQPWEu2EtoPy/nCIVpwKKEsBRwLZrHdAXQFbFoofm/xXAg/Ar/IKk/r9fmj4BCR7lv6LtG7rsUgvATZKz2xql8b8q0Lo6o2TYv4jlTPMuLug/R9MUFldH6z+lLwi3VPD2PzLfNzy0QfI/T0LaaHtRAsCJnNfG300KQFx4Iz3N4wtATrtver/N87/LO4hNJ7R0P84v8x22NuQ/qdbkvde+zb/nQW98+a0JwBfEGTO/+vg/BGSZ6qQ9/78kRT5hZL/8v+52nFBzPyFAum5uOHMIB8Cj4R4zSvwhQJRJdFcDoSZAhCQWHmAf7b+GdN+P1A4TQI1npvs64/e/+oELwN1j9r8NTmXDKkH9v6gsV99vXQfAUv6UAUos3D9DqTyAiF4VQNT39X10GBLAg5mD3Icf+z8caxJhUCYDwL300Kn408M/",
          "dtype": "f8"
         },
         "y": {
          "bdata": "vDMF3uAuIUAGQ6C03awWwJLz+TyXmRhA3liDbQFiIcAcnUCJIMIVwCK8Ck6L4CXAbPXNcoJlEsBAa5CCf1Txv3lG0m/e5xnAUkGXmcZTEcA/K7Dp/W0UwMfhvZg0uCFAja+RAuqDEcAojPKTy/AUwGfUNayx7fo/tDWlbD6wI8BXpZsJ6HLYP2PMKbtLaRrAmcZ4TQN96D9GnMFyaV4fwLtIujlCfhTAY2/ZM6O3CkAkDuJ+0AcRwBmIIW59bBjAgCV43JpwEMAn/mxv3cgZQDw9IljxsxfAYNGq46VeEMAlHQihwuAUwCkOTd0MPR/AhlOtY8j8GcA38t6uMs4hwKk1bz/w0BXApOQ9/KgbEMA+WNEHlNYUwIBqvrWOWghAPz/r2b4mK0BWa5Ju6sH6v2FV5Eh0xhJAsf+8hi7dHcBKs6J6MzsawDARMiryvB7AEy0BMG++GEBT4H5g4KIYwJkw8JvS8Pq/V7b+iaTDJcCIBzphgWURQO819QjKKxfAXqegRuT9sz/2m8qreKMYwGWsOuiqxh9ArmKg4sUIIUCEg6LiXGcTwFPF6+HLAMW/meHcjRceFMDjgrgMu/8GQBTfaYWZdxvA+uj057s5A0Aj03CjZjDNv2/eHXM8NA9AqGOcvXZ7CsC7Cbo8nFLwP0bPx8KknBzAjI9BppjVC8D2MmRYRAAeQLyPbqfrydG/SDAI8IC6D0DV1SzzrqzzvzwTAN4i7RbAPyn8GHkaFcDGH4FiZtsQQBaUIvvLwNi/pjTvopEk1r97up/GaY+lP+GvPDMuBQHAyuhFXs7dB8Bx+ao+vFcXwNM3D9DffABA/32RiXXYCsAJfqOM5jsRwGMOJ7CBTxfAI3aa3N1OFUBNr+t3NvYLQEja8OOZ6QjAzkW0QLnqBUDj8Yz0o8b0P2F/WBdAYQzAVfjZ7gTLB8DuKeqSk2AfwEc+4ZkLbhTAv4UzrhucGkD3acqFtv/2v5OEaFyahRvA72S+fcno4z9C0ccdNVH5v0E9m9oMpxXAQUp9LqLXFECbMC7uYK0KQFetdBjOjhLAoW+ZHhh9CUCAOPqms+T2v25jD3nfMRHArYA/3Pj9GUAlYR5W/I/kv7l94UUcb/Q/v1ZICnd2G0CBcNiF354ZQP6PLSxOhRNANgnZfAZT+j9wDBF7tmDkv1fBe0QZ4AnAxdu2ZdxsIsDh68wIjGcRwCpw+kJVTAzApE4uSH93GMBLM9GewW31vyE+Y5Y/E7Y/KcVBfalsH0BYqdixMoUXQFoLzP994BFAWShKFR9PF0CHyD0x7VkIQLid1x6SyQHAGuccDxhVHkC+wllMpaEYwM+Q+IX/7xDATvjAgR33FcCSa9c9nA/yPwBbz76P9hTAxBqSBtdpEsC9XF209v4uQI5+KNeQbvY/AOfTAaZTBcCy9fx38iMWQJYl/E/2fxLAv0VI4lqGFMAI4koZu+Crv0IL4i8yMAvAoqFV07hN9r8IYF0O95cXQIQ7+gzVRxDA2aqZzOOVBcD5YnsN4sb6v18ICGOEgxRAONoOA56RCEAgWYtSVX8XQMK35L6RngrA35cXSqQs0r/xl/uMDtC6P+iVsrwvTyHAKpAjzGWqG8DK7n6uSWgEwIBYm/i+vBZA95BaqMirFcAQ2od3gzETwB90tCg9NgHA4V3AdG9aCMCncSFwjSwIQGnylbSHSyTA/aA74IYJE0CFr4IValIrQMNRpVFwevc/1EMhfjuKEMA4ib5XYnAawA/uPJPoWBPAowoascgGIMBUfHX4heACQG/aFwBf9RNAt4JfmBO8GMBxpMHSSeMCwO03EEIQ1xnA",
          "dtype": "f8"
         },
         "z": {
          "bdata": "GywcyRvqK0AALcl9DVESwN1VsxB4dSBAD4HaZh1f9T8Ayw+BN9cSwL5tMsdHoRTAnQ+Gj3VnHsDB3cUb2J8CwMRyer3OAQrAIogYi2wwFsCoI1ES5uQAQCSvMgdiahlA96ePKysfFMCgVAmN74/pv08Tw/S/mB5AvdAVWFnOC8DxNTgY8EATQL+AFhLA+BzA70dn+2IIFkDxUD9qLisAwEehLtg9Xds/tLcXvo9DHEBUZwr9UqkIwMR8SOFAWf0/n8NeCtIX5L92j3DLrQIAQLmCo2mVE/w/A4B0nvChDsB6B3LpvloQwKxf0jR2lfW/1/XpFo8A8j9AoX/9eHgDwHR74OWf+ek/gyl3x5xhA0BkLcJdql8ZwANJAQh4+BtADBnnWN1sJEDzMxFdV/sHQKIaJ+UZrSJAjpZjIvqZGsBs79Qu5rkbwPjS7/cdhKG/0cbhrNOeHUBe1+aMcVgQwFBqeja7mhDAmeru0Gha5b8+YAE2lfUSQLSwP+p9uQ3AL7mP82Fb578h9QVVQIvzPzMGp25GswTApqaNE0nxEEATI/StNEUSwB7JaAZuxBdAWb+JcUFIEcDMp/KzBroRQJKSfKX2QhXAj6nUZ6Ry9L+6BG5hjCYdQBhe0Yg09QNAFCxszXxDEcAk9pP23g7Wv1I0C8Yeavm/Di197WpIBMBDL8gKmSIKQF64z2qCttu/uyrxPLmNFkCyubnszBwKQJHZGRQSmhHAHrJAwoLTDUC3nWjwL9sdQCQAQrYHQwTAet0CfrazCUApH1EazTIAQMozMDT2LBbAdfdoL1ld8r/2b0PGnXcawHdJVuH4MQ9ApolC8gQK8j/pUsqvz60MwO/sT3F7vOO/nsXlAdN1CcBD/VNvgk0PwAjd4MJQl/+/+ZGU/AhYGMDFjzODfO0eQK8Guu3EiSPAKfbfeqve/L9Tn8Wj6Uj8Pyk8MER+Tvi/z9J/JqEJ779nPqpv6832P4+qagmgthrA7i2om5lsC0A3b5VZDagRwCQD1QNAEwBAKPJ81bLIGECKYnhUW4sdQCxT/8y1y8y//tuni0nbA0DzrJPMT6YfQPI868LvswnA73utVKd1EkD2o6mwlAUawHXJqwwvkvU/eyqnfgWEKECXMfrsLXAUwNE6r3YqMdO/lF8b+sDWxz/2bgzh8JwgwPjpqGbV4QLAKp9CR53CAUAg20nR98kawM0huEOBF+e/3FIwkPXM4D8JqkUwpYQRwGDVx4xc9SJAkyFLIlXT07/qmshy1F4IQAD+6L57aRVAi/cQU7V4IUDnfCMqRKgQQBIN+zan3PY/1VD9hS5uHkBZD32XH4kJwKsC6a/PeibA5OY4TcP2/b92FmuaocHkv5ZRYXlC6ATA7ijZAQLCCsCXsFgR2NotQLLRkABbPgfACszpuvrhEMCyfRykrIkiQIfaq6D1QwPAy/LHtZnLB8BddNM1VXgfwGq7gO1QLPO/0RTwVdjBEUBvpeoXHVIGwBaTNIPbRANAiZyQvAvuEMDoD2iRWM4QQPXMk8W6OfE/iWox61pwAUBK5bWMNXkZQFK/hNrFtBhAJsguXqYgFEC5I9NISqEbwF65TijcufG/Or+J9j1r6j8zBQkbk0XjvyfwevCx4BJAPGtj+tXRCMCmTvtO9j4LwBRGs59nh/+/PpRuySeLFcD8dm2RJxgnQOHp0Y6jSRBAz884AKIcFcDBR2J/qI8fQPaFV/JycCDAbPEVgM5REMDjfkMAwHf/v7tz88lCDP6/qRCm6v34B8ABa6mTmooeQCZG553VqCDAg8zsKWniG8C5E6SXxT4bwHZHOPvtR8I/",
          "dtype": "f8"
         }
        },
        {
         "hovertemplate": "color=3<br>x=%{x}<br>y=%{y}<br>z=%{z}<extra></extra>",
         "legendgroup": "3",
         "marker": {
          "color": "#19d3f3",
          "symbol": "circle"
         },
         "mode": "markers",
         "name": "3",
         "scene": "scene",
         "showlegend": true,
         "type": "scatter3d",
         "x": {
          "bdata": "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",
          "dtype": "f8"
         },
         "y": {
          "bdata": "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",
          "dtype": "f8"
         },
         "z": {
          "bdata": "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",
          "dtype": "f8"
         }
        },
        {
         "hovertemplate": "color=7<br>x=%{x}<br>y=%{y}<br>z=%{z}<extra></extra>",
         "legendgroup": "7",
         "marker": {
          "color": "#FF6692",
          "symbol": "circle"
         },
         "mode": "markers",
         "name": "7",
         "scene": "scene",
         "showlegend": true,
         "type": "scatter3d",
         "x": {
          "bdata": "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",
          "dtype": "f8"
         },
         "y": {
          "bdata": "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",
          "dtype": "f8"
         },
         "z": {
          "bdata": "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",
          "dtype": "f8"
         }
        },
        {
         "hovertemplate": "color=2<br>x=%{x}<br>y=%{y}<br>z=%{z}<extra></extra>",
         "legendgroup": "2",
         "marker": {
          "color": "#B6E880",
          "symbol": "circle"
         },
         "mode": "markers",
         "name": "2",
         "scene": "scene",
         "showlegend": true,
         "type": "scatter3d",
         "x": {
          "bdata": "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",
          "dtype": "f8"
         },
         "y": {
          "bdata": "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",
          "dtype": "f8"
         },
         "z": {
          "bdata": "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",
          "dtype": "f8"
         }
        },
        {
         "hovertemplate": "color=0<br>x=%{x}<br>y=%{y}<br>z=%{z}<extra></extra>",
         "legendgroup": "0",
         "marker": {
          "color": "#FF97FF",
          "symbol": "circle"
         },
         "mode": "markers",
         "name": "0",
         "scene": "scene",
         "showlegend": true,
         "type": "scatter3d",
         "x": {
          "bdata": "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",
          "dtype": "f8"
         },
         "y": {
          "bdata": "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",
          "dtype": "f8"
         },
         "z": {
          "bdata": "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",
          "dtype": "f8"
         }
        },
        {
         "hovertemplate": "color=8<br>x=%{x}<br>y=%{y}<br>z=%{z}<extra></extra>",
         "legendgroup": "8",
         "marker": {
          "color": "#FECB52",
          "symbol": "circle"
         },
         "mode": "markers",
         "name": "8",
         "scene": "scene",
         "showlegend": true,
         "type": "scatter3d",
         "x": {
          "bdata": "1u2jLeg5AUDGMGfJggcWwLhJyCQv6gzAAiE8zUu4HUAvVprQ7rANwGvhwUwptv8/QpmG5zbqB8CXOuMZbLkLwKaWtE/X7wjAbXth/CJbE0DSIBYteLQJwEtKMbFSpes/Z1HD9xRf5L8rFfu/Sxy+P5+hMt76pxbAlKLolhVx+L8Dj26zGHMKwP0BlX0m2QzAoRQgwCUvAMArkN46QErsv6lpMIPZtwhAAYEAN70RCsDWHnmMXc4IwDsVZbqAXAnAWT8Dp2i48r9Jen6pzTkTwE1LAT9VqfK/t5WLwHAbC8CLymcSIXfrP8MfhzMMeRNAD9MCgGCB97/7ICWe4PQSwN9uqih82RDAPDRzQqiD9L/Pfla/fEX2PzawwGa8xhLANw/K0+lcEMAHRrKewzMIQGWY4kNn3xTA3Bf1A0FhEcBKjRemUEr2vw/j3DSnYPm/v+dl4trC6z83XuAsu5ARQAEnFOkeAvi/0d6bTAN84D/Z91ilKJYQwGgkpu9PohLAEGR+FvRA9z804Q24f48KwPCCewOOeyVA8bxDM7Zwvj/wnFM0XYwJwKC5vifHyv6/O4BV1tI98z/opZPD3KwjQMzvr4aC3hXAHVN/e0zcKEAAjiSbQknzvzB5QZiyM9m/+MlAxLEuGcD+LCw2XsAQwLl1lAxpZgHAkAel49YcFsBSdAVMmGfav6xWzueIfdA/gRhAExKmA0An08cga+/tv/shIttw/+O/aIMk0Kt6/b+a8QaPkKYiQDZlOe3XwAPABD5N8FsLAcDC+ySP6r8NwEJwZVguJAXA2RPOxy06BMCtPKVRnrAHwPzvectjsvW/27UeGbK4C8ALvTphjE4dQPbKEParnPS/LBk3vXUgC8A/vU0l1pYHwGUyDF56Ive/JuRp6ZzEAkBV2si+XSgQwD0Hm4sfviFA9DpIzrK+EsCMwJyM3VsPQGZDR5cNN/M/5Q+BB2KdAsASq1j+qSrqv1btcWhgRwXA+1RHiu9k7r8lZjvetiYJwKWh0a2whQHAU9Trx0uvE8Bw2G7jqyIEwEyXZXdfSBPAm5g/Yah3C8ABZu8llX/+P6tuDEMVK/Y/dX0JyJrl9z9AswDAsj2iP37TFxH/aPG/u/W/0ehGEMDtamMlq18IwFQWGshg1sE/h109v0iLGcC/xyUu7dzvv27AdJSsQADA1MByyUtJE8DajqT85O8AwFRxlNbEkR5AA9NmeocvKUCT46mc6mnpP4rjYoI1jCFAcey+0W/SAUDhSavO24b8PygmB0oRqQPAss/vQhGXGEC1wnifIfATwHhxPsPMGxfAqhQfRSFi9b9VOdyKW4ESwPgJIYKe+w3AJ2GID0oCFcAHMXpecIqsvzeg7k6C2QXApdijvPRCCMARRWK3GA//vwmL7EOsjfK/KhxJi/fYEMCr0cKksYgMwOgFTpH7IwjAq6R+rTWDFMCzlg/F0GcZwLWKLsz5YQjAZ6HxOwOyAcAd/geNrWkRwA9gdpfeyAbAP9lUFae78r+7ZlO1eqsMwOw0vy58iRTAcsszidOgAsCfuHstHfcGwN+dxgevAAlA7K3/A6kTDMCnN2e3gQAEQAvw7g+CNAHAFqhkmYC6HECL2PfXFa4bwFZ/8sWp+vm/z9husAmoAsDGl+dcbBASwA8v4rXUR/0/vBn2l7MG4j9ro1SuBQQFwJleQvclh+u/SMAjocHzEsCrG77IW6AVwCLNBBN+CwjAjzB7TbV6E0Czr0YSBtsRwA02tfyIRhDAfSRJrUSYGMD7qxSxN/zov0L/SSg/c/4/nxzr5la7DsCIiVTBpl4LwNystPfeCw1AGOFb+B3mAcDJybE60LHbv9Co7qVj1AXAgJPekbBoCECmFGYKIIT3vwNf534bMOs/s75NY9HnjL+G6CAYyR4OQKssK5OFfhDA03KIpjx4EsCp8k38ofgIwBMSlDH/tBHATyeojZpe57+Zvt03HTr2vw==",
          "dtype": "f8"
         },
         "y": {
          "bdata": "7QwYMah39z8czBHjt4PgPzWuGVr4vNC/JyYdGXqCG8AAhrX8Wbfpv0mHy6LUvOQ/LdG2mw026b915gtmThkVwPZnpxeQ7wXAzs+gvXc9JEDR5s2WyEz5v4Hou7BDnBnAUmo0UOy4/D+JCJYeWVMAwJ25BvoPXeq/oSVbtmE5D8AXqe8FAQsOwDwGXic5kR5AtJHiEfQN2z8Ag982PWP2P79jLjK3VRPApI9PdSsjDsA3HRKu7r/Fvy2Haa73RRxAjejgUwm6GsAwDc43TLj6v9zgVz6ygg9AWKP6dla5mb/QChOIzNbJP6GwvtA1ONk/nd0Fs8hdH0BxNmhM7Wf6Pwu+BOTyueU/TqMVV1ZFC8CoUNYV4hcRwGRXd+LjTg9AF1JS0bJb0L8sBZQWpv3pPzswBuVf1uc/7CIXXz8MCUAarqokQ30VwOnIX6YE4h5AV2H15swbHMAWhlHpuMUEwFEMAonGORjAwTCUEssEFECVzQlek/r2P2fDFY5R/dG/2p3A1lUeJMD/Nb6gZKkJwBxKkoGDHPY/uaMU+ZunGMBGXLRO1Q0XwJuQUhTEbwjAo+DSf3eRFkCQdWdyoAccQMTfFyeMjOI/3f3MffuQFcBCnYwBz9n3P+T73feJwQzAWZwdzR5B9L9+80VG68rav4gpt1MtPCDAVrYDi+E6EMB5CFetZ076v+Ci8J/y9uG/EpZ4rj0iHMB7kVq82gMSwAZckOAY+/m/cwW+58Ui+L+jjLYwBtYewJ5BghgR0BBA+79CF4NqFsClPVdz4AXxPxxIDGCvOhZAD9YcqLO/FMCb3aL0WxXXvykyCxsEDSpAbyn7j+i5BMAUKsIIcikdQKo0WoOZ0wvAedJkyyHIDcCyCy765H7dv7gKG1uaFxfA/T6mCW8bHsBFYbALevLmv56q/81/EwpASUWHqGEA8b86AN4MjHoJwG4iVFDrBxzAcfzDzUxa37/rGAOkNwMNwGIP1uQ0//+/zSfht3LQFcCp1sYMH5gdQEW2w4x3VxNALPyMKVkSEEAb6A/Gamz3v72Z4Q6ytw3AeRgHNW71DUBPDTn5RdHaPwl6qg9rqQBAnP1svMxWDsBkjNqpZO8LQCe5mre4ShbAi91Qlh3fFEDe6dVascgCQKREE2x73wbASguZUmIkur80+vVFujbJv/1HNiKubgnADCEx9fF9FcDQDFdAp1YVwPqvQAq20eW/sqNlBks08b/5Jjb9f9bCPxCSEYWI+Q5AWroN4A18GcBrGpLmQL4bwLEV79mZbd2/8aClGWHnF8BYKcJVMFfyP1KOBvwtruo/b93K+p+eB8AIxfLh/FgSwGum1typJAfAqJNQi6l0C8AjPtaIXQ8gQK7D8SCVdRTAffl9Xs7/yr9QJIWjmL3xP2EdFmOGkgZAMK+9TScc3D8O5KAZTBoQwPGXVmjkbuA/szaF2QmuFsAIXymzuKYHwJyzsI5iJ/e/eje0solw/L9pc6J2Xm/xP5Jt8Vl3GfI/qK/hunY2AsA9Jl1pVebTP/mbzWDHPQPA2j2rDhLPEsDY6nDRAgLHv+SQkXSS9Oa/9XK8/KIg878faX0JL8oawMQaa3iLLxPAGBM7I9KwHkAretGLa7wOwA2ijtXPjhrAK/P/HiXG/j8qNyHS7AASwH4dBgUOSxnAQfiG1dHZFsC7OwgN+i8dwG0i1IRmwg7AQfCjF6Lg/L/YpK5uRrwHQB60nj4eDde/AXHnN4/fIsCXMNopKIUAwPCKeV3fERXAo4bqV09GAMCKxqFENVAawM9BF1T38gvAhYloD0lZFsAJ43XY1I/uvyL3QYhFUvk/RIo0RgIp/z+cKq+F7SIZwFnbE1V7vCRAwfUnduHtHcBk1kaBXfkNwKzSAaDZyP+/lbNhcHy1EcBOgvdZWesmQE50iwB56QPAqW438bXrEsBzxU/IKb4hQPEGtMKpmRBAOH7+a6l4CsB8GFQUGZMTwA==",
          "dtype": "f8"
         },
         "z": {
          "bdata": "JAmTfznh6j90OF85PNUAQPOsZ7QaFfs/XCU7ZKiKDcAIpj1Nzaz2PxvWPF0NlyBABZsXIocC+L/QDD5R7Cnmv3yobdRAjQ1AryiaI2xrJUB7KyF/WTv9v8UDZK1oUh7APpghqH8KFUCPJq6aJ/LrP/+VXRJilBTAq+SqnarACECCOb+cw5L5P+lQNFkucfS/DXzOHgUS5r+tDoe9yh4RwASRYFlayuK/bKh6r6UEGEAllBMdIU/5P0aiV5f6IfA/A9bD7TWYCMAqqN6tYSAAQJ46R/Ap6RhAL6NHfCTb3z9ATR4OMIsOQEkddtd6xeE/s199oa6yF0AWk3VLiMnyP09fjLzN2xNAYlLY11vQ+r/LFKRe7ukWwL139kUdUBRAHqHClhJn8T8ZztWGkSobQH0E7wTnsRFAmTa0zRMKBEAcSlHcdGwQwDInIM+3nBtAVfSlakrfF8AaiK8tWa8LwMJTEs8SBfG/njISWRYZIUA1aJhbShwFwL1LeVRy/xBA2I7ySNVzEsA8dP+gmqzrP2RDt2t7WBBA5ow4RZuqEsB2nY99Tvf3v7fkuNGEYek/sqPMgY2hJEAoH22F0BIlQGo/pC4c3ei/xt0ghOGv9L8zixPFulrPP87bIy63QglAMg0lcyNG4j9CRYIKZIsQQFVMwWW2svM/r+XdGA10yb8Oon9UQTIUwOy8ASpZ3hHA03YTCyPL2L+DF8k2MfzMv2HsSOiYUQdA2VEfXiYn+7/32848VmIZwM1Vp0RnXSBAWSbZhHxoDMD0nnVTP2jKv2bT7eNj3RpAy5aBgq3REMAOWN+D/PjlP14UzYaigg/ARU3/ZT4cBkBmkWVu1zohQBq5fh4d8/6/VGo4pL4XCkBHEtwCKasSQOI4PpcZIxfAFUs7W4EL4r8CVmSpB6YAQHB6ba1A6PQ/mgU1gibK3L9BlVIJcSMJQMqHiCm0ugTAugJ/eh3cEUC8DFV3oS4BwIzxKr3UJPy/duG9QmzwBMD2Ch2KX38XQJ012ywymBpAbwCmiaT02D+wupuiJcsSQLNEeMAxVgFAWzXJrPTaAMA+YuEDP3j8v1Np3GwjMBZAg3QZi+q+9r8Hg5s5JEgjQL4VobRk8xTA0GATE2LjAkBhA6mE+MznP4SBMIbgfRjAX8qJqZHD+T8jsEidXxQbQAQPJaDr5BzA+AlTvXTdzz/krvOzCawOwDJMNtk28BtAYoE7Pweo8T+0sgTVzuwkQBYKmRGC0ABAGjO/6A6lEcA6p3R/Acvxv8f3AaUj7ANAhzcj0vBgJcAOQ1pV0tsTQPjcaeaCBhBAUqpMAupnAcBWNpEl/QvgPxJiI1sBzPQ/a4/WObSmAUAjSgXjwfEMwPQKzBOWkNI/SlVqIAoczD+YMHxkNpkMwLAeKC1dyxhApIQrBBV1E0D6ilqn32X6v0wY5G8dSKm/KcDe2h5u0D8HPWYpElvkP/m8Z2GCsgnAzX+xhS5P8D9HC3/7rbwPQO2gtdBTMfe/6pj9uP92CsC610ugHFMIwE8hDestOwVAZPLNDK6F0L8fmcOlDXP9v8jIS1Ka8/g/+7gwDG1rGEAukByo0/IgwA5exTEE1hLAPldgTAXhKEARf8dbksvsPwBmrvOxxhTAxRuD420gGkA5Cw7/hrfaPybMIKuy0B3A3GyySs+kBcCZ1rCmiZYIwIKE074ebgpAmZcICllg8j8s+0T9do4TQNsKu6MpsglANzpsWk3vEMDQnhmhmg4IwHTRA/SobPE/2lVpq8wo/D8ZphriQM8AwBG3IWroAw7ALhd8ZaLb/L9G7DkDEoUNQOGekWj9sBVAjlqwlLsYDUC/YhhNGrewv9IASNZzA5Y/RjmeJ5vM7b+Yu7ig5z4QQEltj1YQvwLAQ/UoUJVEGsBNUGO1jG8kQHiiLJAwP/M/5AYXtewR9r+C4WtvS2UVQCliFfHk4xlAxvfhoT0IA0CJzQSUV9gAwA==",
          "dtype": "f8"
         }
        }
       ],
       "layout": {
        "legend": {
         "title": {
          "text": "color"
         },
         "tracegroupgap": 0
        },
        "margin": {
         "b": 20,
         "l": 20,
         "r": 20,
         "t": 20
        },
        "scene": {
         "domain": {
          "x": [
           0,
           1
          ],
          "y": [
           0,
           1
          ]
         },
         "xaxis": {
          "title": {
           "text": "x"
          }
         },
         "yaxis": {
          "title": {
           "text": "y"
          }
         },
         "zaxis": {
          "title": {
           "text": "z"
          }
         }
        },
        "template": {
         "data": {
          "bar": [
           {
            "error_x": {
             "color": "#2a3f5f"
            },
            "error_y": {
             "color": "#2a3f5f"
            },
            "marker": {
             "line": {
              "color": "#E5ECF6",
              "width": 0.5
             },
             "pattern": {
              "fillmode": "overlay",
              "size": 10,
              "solidity": 0.2
             }
            },
            "type": "bar"
           }
          ],
          "barpolar": [
           {
            "marker": {
             "line": {
              "color": "#E5ECF6",
              "width": 0.5
             },
             "pattern": {
              "fillmode": "overlay",
              "size": 10,
              "solidity": 0.2
             }
            },
            "type": "barpolar"
           }
          ],
          "carpet": [
           {
            "aaxis": {
             "endlinecolor": "#2a3f5f",
             "gridcolor": "white",
             "linecolor": "white",
             "minorgridcolor": "white",
             "startlinecolor": "#2a3f5f"
            },
            "baxis": {
             "endlinecolor": "#2a3f5f",
             "gridcolor": "white",
             "linecolor": "white",
             "minorgridcolor": "white",
             "startlinecolor": "#2a3f5f"
            },
            "type": "carpet"
           }
          ],
          "choropleth": [
           {
            "colorbar": {
             "outlinewidth": 0,
             "ticks": ""
            },
            "type": "choropleth"
           }
          ],
          "contour": [
           {
            "colorbar": {
             "outlinewidth": 0,
             "ticks": ""
            },
            "colorscale": [
             [
              0,
              "#0d0887"
             ],
             [
              0.1111111111111111,
              "#46039f"
             ],
             [
              0.2222222222222222,
              "#7201a8"
             ],
             [
              0.3333333333333333,
              "#9c179e"
             ],
             [
              0.4444444444444444,
              "#bd3786"
             ],
             [
              0.5555555555555556,
              "#d8576b"
             ],
             [
              0.6666666666666666,
              "#ed7953"
             ],
             [
              0.7777777777777778,
              "#fb9f3a"
             ],
             [
              0.8888888888888888,
              "#fdca26"
             ],
             [
              1,
              "#f0f921"
             ]
            ],
            "type": "contour"
           }
          ],
          "contourcarpet": [
           {
            "colorbar": {
             "outlinewidth": 0,
             "ticks": ""
            },
            "type": "contourcarpet"
           }
          ],
          "heatmap": [
           {
            "colorbar": {
             "outlinewidth": 0,
             "ticks": ""
            },
            "colorscale": [
             [
              0,
              "#0d0887"
             ],
             [
              0.1111111111111111,
              "#46039f"
             ],
             [
              0.2222222222222222,
              "#7201a8"
             ],
             [
              0.3333333333333333,
              "#9c179e"
             ],
             [
              0.4444444444444444,
              "#bd3786"
             ],
             [
              0.5555555555555556,
              "#d8576b"
             ],
             [
              0.6666666666666666,
              "#ed7953"
             ],
             [
              0.7777777777777778,
              "#fb9f3a"
             ],
             [
              0.8888888888888888,
              "#fdca26"
             ],
             [
              1,
              "#f0f921"
             ]
            ],
            "type": "heatmap"
           }
          ],
          "histogram": [
           {
            "marker": {
             "pattern": {
              "fillmode": "overlay",
              "size": 10,
              "solidity": 0.2
             }
            },
            "type": "histogram"
           }
          ],
          "histogram2d": [
           {
            "colorbar": {
             "outlinewidth": 0,
             "ticks": ""
            },
            "colorscale": [
             [
              0,
              "#0d0887"
             ],
             [
              0.1111111111111111,
              "#46039f"
             ],
             [
              0.2222222222222222,
              "#7201a8"
             ],
             [
              0.3333333333333333,
              "#9c179e"
             ],
             [
              0.4444444444444444,
              "#bd3786"
             ],
             [
              0.5555555555555556,
              "#d8576b"
             ],
             [
              0.6666666666666666,
              "#ed7953"
             ],
             [
              0.7777777777777778,
              "#fb9f3a"
             ],
             [
              0.8888888888888888,
              "#fdca26"
             ],
             [
              1,
              "#f0f921"
             ]
            ],
            "type": "histogram2d"
           }
          ],
          "histogram2dcontour": [
           {
            "colorbar": {
             "outlinewidth": 0,
             "ticks": ""
            },
            "colorscale": [
             [
              0,
              "#0d0887"
             ],
             [
              0.1111111111111111,
              "#46039f"
             ],
             [
              0.2222222222222222,
              "#7201a8"
             ],
             [
              0.3333333333333333,
              "#9c179e"
             ],
             [
              0.4444444444444444,
              "#bd3786"
             ],
             [
              0.5555555555555556,
              "#d8576b"
             ],
             [
              0.6666666666666666,
              "#ed7953"
             ],
             [
              0.7777777777777778,
              "#fb9f3a"
             ],
             [
              0.8888888888888888,
              "#fdca26"
             ],
             [
              1,
              "#f0f921"
             ]
            ],
            "type": "histogram2dcontour"
           }
          ],
          "mesh3d": [
           {
            "colorbar": {
             "outlinewidth": 0,
             "ticks": ""
            },
            "type": "mesh3d"
           }
          ],
          "parcoords": [
           {
            "line": {
             "colorbar": {
              "outlinewidth": 0,
              "ticks": ""
             }
            },
            "type": "parcoords"
           }
          ],
          "pie": [
           {
            "automargin": true,
            "type": "pie"
           }
          ],
          "scatter": [
           {
            "fillpattern": {
             "fillmode": "overlay",
             "size": 10,
             "solidity": 0.2
            },
            "type": "scatter"
           }
          ],
          "scatter3d": [
           {
            "line": {
             "colorbar": {
              "outlinewidth": 0,
              "ticks": ""
             }
            },
            "marker": {
             "colorbar": {
              "outlinewidth": 0,
              "ticks": ""
             }
            },
            "type": "scatter3d"
           }
          ],
          "scattercarpet": [
           {
            "marker": {
             "colorbar": {
              "outlinewidth": 0,
              "ticks": ""
             }
            },
            "type": "scattercarpet"
           }
          ],
          "scattergeo": [
           {
            "marker": {
             "colorbar": {
              "outlinewidth": 0,
              "ticks": ""
             }
            },
            "type": "scattergeo"
           }
          ],
          "scattergl": [
           {
            "marker": {
             "colorbar": {
              "outlinewidth": 0,
              "ticks": ""
             }
            },
            "type": "scattergl"
           }
          ],
          "scattermap": [
           {
            "marker": {
             "colorbar": {
              "outlinewidth": 0,
              "ticks": ""
             }
            },
            "type": "scattermap"
           }
          ],
          "scattermapbox": [
           {
            "marker": {
             "colorbar": {
              "outlinewidth": 0,
              "ticks": ""
             }
            },
            "type": "scattermapbox"
           }
          ],
          "scatterpolar": [
           {
            "marker": {
             "colorbar": {
              "outlinewidth": 0,
              "ticks": ""
             }
            },
            "type": "scatterpolar"
           }
          ],
          "scatterpolargl": [
           {
            "marker": {
             "colorbar": {
              "outlinewidth": 0,
              "ticks": ""
             }
            },
            "type": "scatterpolargl"
           }
          ],
          "scatterternary": [
           {
            "marker": {
             "colorbar": {
              "outlinewidth": 0,
              "ticks": ""
             }
            },
            "type": "scatterternary"
           }
          ],
          "surface": [
           {
            "colorbar": {
             "outlinewidth": 0,
             "ticks": ""
            },
            "colorscale": [
             [
              0,
              "#0d0887"
             ],
             [
              0.1111111111111111,
              "#46039f"
             ],
             [
              0.2222222222222222,
              "#7201a8"
             ],
             [
              0.3333333333333333,
              "#9c179e"
             ],
             [
              0.4444444444444444,
              "#bd3786"
             ],
             [
              0.5555555555555556,
              "#d8576b"
             ],
             [
              0.6666666666666666,
              "#ed7953"
             ],
             [
              0.7777777777777778,
              "#fb9f3a"
             ],
             [
              0.8888888888888888,
              "#fdca26"
             ],
             [
              1,
              "#f0f921"
             ]
            ],
            "type": "surface"
           }
          ],
          "table": [
           {
            "cells": {
             "fill": {
              "color": "#EBF0F8"
             },
             "line": {
              "color": "white"
             }
            },
            "header": {
             "fill": {
              "color": "#C8D4E3"
             },
             "line": {
              "color": "white"
             }
            },
            "type": "table"
           }
          ]
         },
         "layout": {
          "annotationdefaults": {
           "arrowcolor": "#2a3f5f",
           "arrowhead": 0,
           "arrowwidth": 1
          },
          "autotypenumbers": "strict",
          "coloraxis": {
           "colorbar": {
            "outlinewidth": 0,
            "ticks": ""
           }
          },
          "colorscale": {
           "diverging": [
            [
             0,
             "#8e0152"
            ],
            [
             0.1,
             "#c51b7d"
            ],
            [
             0.2,
             "#de77ae"
            ],
            [
             0.3,
             "#f1b6da"
            ],
            [
             0.4,
             "#fde0ef"
            ],
            [
             0.5,
             "#f7f7f7"
            ],
            [
             0.6,
             "#e6f5d0"
            ],
            [
             0.7,
             "#b8e186"
            ],
            [
             0.8,
             "#7fbc41"
            ],
            [
             0.9,
             "#4d9221"
            ],
            [
             1,
             "#276419"
            ]
           ],
           "sequential": [
            [
             0,
             "#0d0887"
            ],
            [
             0.1111111111111111,
             "#46039f"
            ],
            [
             0.2222222222222222,
             "#7201a8"
            ],
            [
             0.3333333333333333,
             "#9c179e"
            ],
            [
             0.4444444444444444,
             "#bd3786"
            ],
            [
             0.5555555555555556,
             "#d8576b"
            ],
            [
             0.6666666666666666,
             "#ed7953"
            ],
            [
             0.7777777777777778,
             "#fb9f3a"
            ],
            [
             0.8888888888888888,
             "#fdca26"
            ],
            [
             1,
             "#f0f921"
            ]
           ],
           "sequentialminus": [
            [
             0,
             "#0d0887"
            ],
            [
             0.1111111111111111,
             "#46039f"
            ],
            [
             0.2222222222222222,
             "#7201a8"
            ],
            [
             0.3333333333333333,
             "#9c179e"
            ],
            [
             0.4444444444444444,
             "#bd3786"
            ],
            [
             0.5555555555555556,
             "#d8576b"
            ],
            [
             0.6666666666666666,
             "#ed7953"
            ],
            [
             0.7777777777777778,
             "#fb9f3a"
            ],
            [
             0.8888888888888888,
             "#fdca26"
            ],
            [
             1,
             "#f0f921"
            ]
           ]
          },
          "colorway": [
           "#636efa",
           "#EF553B",
           "#00cc96",
           "#ab63fa",
           "#FFA15A",
           "#19d3f3",
           "#FF6692",
           "#B6E880",
           "#FF97FF",
           "#FECB52"
          ],
          "font": {
           "color": "#2a3f5f"
          },
          "geo": {
           "bgcolor": "white",
           "lakecolor": "white",
           "landcolor": "#E5ECF6",
           "showlakes": true,
           "showland": true,
           "subunitcolor": "white"
          },
          "hoverlabel": {
           "align": "left"
          },
          "hovermode": "closest",
          "mapbox": {
           "style": "light"
          },
          "paper_bgcolor": "white",
          "plot_bgcolor": "#E5ECF6",
          "polar": {
           "angularaxis": {
            "gridcolor": "white",
            "linecolor": "white",
            "ticks": ""
           },
           "bgcolor": "#E5ECF6",
           "radialaxis": {
            "gridcolor": "white",
            "linecolor": "white",
            "ticks": ""
           }
          },
          "scene": {
           "xaxis": {
            "backgroundcolor": "#E5ECF6",
            "gridcolor": "white",
            "gridwidth": 2,
            "linecolor": "white",
            "showbackground": true,
            "ticks": "",
            "zerolinecolor": "white"
           },
           "yaxis": {
            "backgroundcolor": "#E5ECF6",
            "gridcolor": "white",
            "gridwidth": 2,
            "linecolor": "white",
            "showbackground": true,
            "ticks": "",
            "zerolinecolor": "white"
           },
           "zaxis": {
            "backgroundcolor": "#E5ECF6",
            "gridcolor": "white",
            "gridwidth": 2,
            "linecolor": "white",
            "showbackground": true,
            "ticks": "",
            "zerolinecolor": "white"
           }
          },
          "shapedefaults": {
           "line": {
            "color": "#2a3f5f"
           }
          },
          "ternary": {
           "aaxis": {
            "gridcolor": "white",
            "linecolor": "white",
            "ticks": ""
           },
           "baxis": {
            "gridcolor": "white",
            "linecolor": "white",
            "ticks": ""
           },
           "bgcolor": "#E5ECF6",
           "caxis": {
            "gridcolor": "white",
            "linecolor": "white",
            "ticks": ""
           }
          },
          "title": {
           "x": 0.05
          },
          "xaxis": {
           "automargin": true,
           "gridcolor": "white",
           "linecolor": "white",
           "ticks": "",
           "title": {
            "standoff": 15
           },
           "zerolinecolor": "white",
           "zerolinewidth": 2
          },
          "yaxis": {
           "automargin": true,
           "gridcolor": "white",
           "linecolor": "white",
           "ticks": "",
           "title": {
            "standoff": 15
           },
           "zerolinecolor": "white",
           "zerolinewidth": 2
          }
         }
        }
       }
      }
     },
     "metadata": {},
     "output_type": "display_data"
    }
   ],
   "source": [
    "\n",
    "y_train_transform = y_train.astype(str)\n",
    "fig = px.scatter_3d(x = x_train_transform[:,0],\n",
    "                 y= x_train_transform[:,1],\n",
    "                 z = x_train_transform[:,2] \n",
    "                 ,color=y_train_transform)\n",
    "\n",
    "fig.update_layout(margin = dict(l=20,r=20,t=20,b=20))\n",
    "\n",
    "fig.show()"
   ]
  }
 ],
 "metadata": {
  "kernelspec": {
   "display_name": "Python 3",
   "language": "python",
   "name": "python3"
  },
  "language_info": {
   "codemirror_mode": {
    "name": "ipython",
    "version": 3
   },
   "file_extension": ".py",
   "mimetype": "text/x-python",
   "name": "python",
   "nbconvert_exporter": "python",
   "pygments_lexer": "ipython3",
   "version": "3.12.5"
  }
 },
 "nbformat": 4,
 "nbformat_minor": 2
}
