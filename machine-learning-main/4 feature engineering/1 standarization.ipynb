{
 "cells": [
  {
   "cell_type": "code",
   "execution_count": null,
   "metadata": {},
   "outputs": [],
   "source": [
    "# standarization used for scaling the data distances ex.(age ,salary)(15,200000) \n",
    "#distance between to inputs are in big range we use standarization\n",
    "\n",
    "# standarization applied on k-mean,knn,ann,pca,gradient descent(deep learning)"
   ]
  },
  {
   "cell_type": "code",
   "execution_count": 65,
   "metadata": {},
   "outputs": [],
   "source": [
    "import numpy as np \n",
    "import pandas as pd\n",
    "import seaborn as sns\n",
    "import matplotlib.pyplot as plt"
   ]
  },
  {
   "cell_type": "code",
   "execution_count": 131,
   "metadata": {},
   "outputs": [],
   "source": [
    "pr = pd.read_csv('salary.csv',usecols=['sex','age','fnlwgt'],nrows=100)"
   ]
  },
  {
   "cell_type": "code",
   "execution_count": 132,
   "metadata": {},
   "outputs": [
    {
     "data": {
      "text/plain": [
       "((70, 2), (30, 2))"
      ]
     },
     "execution_count": 132,
     "metadata": {},
     "output_type": "execute_result"
    }
   ],
   "source": [
    "# train test split  for feature scaling\n",
    "from sklearn.model_selection import train_test_split\n",
    "\n",
    "x_train,x_test,y_train,y_test =  train_test_split(pr.drop('sex',axis=1),pr['sex'],test_size=0.3,random_state=0)\n",
    "\n",
    "x_train.shape,x_test.shape"
   ]
  },
  {
   "cell_type": "code",
   "execution_count": 134,
   "metadata": {},
   "outputs": [],
   "source": [
    "# standard scaleing\n",
    "from sklearn.preprocessing  import StandardScaler\n",
    "\n",
    "scalar = StandardScaler()\n",
    "\n",
    "#it learn the set ,it calculate min of column given in x_train\n",
    "scalar.fit(x_train)\n",
    "\n",
    "# (scalar.mean_) this code show mean value of data\n",
    "\n",
    "#storing the scaled value in train and test \n",
    "#we train only one but transform train and test both\n",
    "x_train_scaled = scalar.transform(x_train)\n",
    "x_test_scaled = scalar.transform(x_test)\n",
    "\n"
   ]
  },
  {
   "cell_type": "code",
   "execution_count": 135,
   "metadata": {},
   "outputs": [],
   "source": [
    "# to convert the scaled value from array to dataframe(readable)\n",
    "\n",
    "x_train_scaled = pd.DataFrame(x_train_scaled,columns=x_train.columns)\n",
    "x_test_scaled = pd.DataFrame(x_test_scaled,columns=x_test.columns)"
   ]
  },
  {
   "cell_type": "code",
   "execution_count": 136,
   "metadata": {},
   "outputs": [
    {
     "data": {
      "text/html": [
       "<div>\n",
       "<style scoped>\n",
       "    .dataframe tbody tr th:only-of-type {\n",
       "        vertical-align: middle;\n",
       "    }\n",
       "\n",
       "    .dataframe tbody tr th {\n",
       "        vertical-align: top;\n",
       "    }\n",
       "\n",
       "    .dataframe thead th {\n",
       "        text-align: right;\n",
       "    }\n",
       "</style>\n",
       "<table border=\"1\" class=\"dataframe\">\n",
       "  <thead>\n",
       "    <tr style=\"text-align: right;\">\n",
       "      <th></th>\n",
       "      <th>age</th>\n",
       "      <th>fnlwgt</th>\n",
       "    </tr>\n",
       "  </thead>\n",
       "  <tbody>\n",
       "    <tr>\n",
       "      <th>count</th>\n",
       "      <td>70.0</td>\n",
       "      <td>70.0</td>\n",
       "    </tr>\n",
       "    <tr>\n",
       "      <th>mean</th>\n",
       "      <td>-0.0</td>\n",
       "      <td>-0.0</td>\n",
       "    </tr>\n",
       "    <tr>\n",
       "      <th>std</th>\n",
       "      <td>1.0</td>\n",
       "      <td>1.0</td>\n",
       "    </tr>\n",
       "    <tr>\n",
       "      <th>min</th>\n",
       "      <td>-1.7</td>\n",
       "      <td>-1.7</td>\n",
       "    </tr>\n",
       "    <tr>\n",
       "      <th>25%</th>\n",
       "      <td>-0.7</td>\n",
       "      <td>-0.8</td>\n",
       "    </tr>\n",
       "    <tr>\n",
       "      <th>50%</th>\n",
       "      <td>-0.1</td>\n",
       "      <td>-0.1</td>\n",
       "    </tr>\n",
       "    <tr>\n",
       "      <th>75%</th>\n",
       "      <td>0.8</td>\n",
       "      <td>0.6</td>\n",
       "    </tr>\n",
       "    <tr>\n",
       "      <th>max</th>\n",
       "      <td>3.3</td>\n",
       "      <td>3.1</td>\n",
       "    </tr>\n",
       "  </tbody>\n",
       "</table>\n",
       "</div>"
      ],
      "text/plain": [
       "        age  fnlwgt\n",
       "count  70.0    70.0\n",
       "mean   -0.0    -0.0\n",
       "std     1.0     1.0\n",
       "min    -1.7    -1.7\n",
       "25%    -0.7    -0.8\n",
       "50%    -0.1    -0.1\n",
       "75%     0.8     0.6\n",
       "max     3.3     3.1"
      ]
     },
     "execution_count": 136,
     "metadata": {},
     "output_type": "execute_result"
    }
   ],
   "source": [
    "#to see the normal and scaled values \n",
    "#we can see the scaling from this code\n",
    "np.round(x_train.describe(),1)\n",
    "np.round(x_train_scaled.describe(),1)"
   ]
  },
  {
   "cell_type": "code",
   "execution_count": 137,
   "metadata": {},
   "outputs": [
    {
     "data": {
      "image/png": "[encoded data removed]",
      "text/plain": [
       "<Figure size 1000x500 with 2 Axes>"
      ]
     },
     "metadata": {},
     "output_type": "display_data"
    }
   ],
   "source": [
    "# showing the before and after the scaling plots\n",
    "plt.figure(figsize=(10, 5))\n",
    "\n",
    "plt.subplot(1, 2, 1)  # (rows, columns, position)s\n",
    "plt.scatter(x_train['age'], x_train['fnlwgt'], color='blue',label='before scale')\n",
    "plt.legend()\n",
    "\n",
    "plt.subplot(1, 2, 2) \n",
    "plt.scatter(x_train_scaled['age'], x_train_scaled['fnlwgt'], color='red', label='after scale')\n",
    "plt.legend()\n",
    "plt.tight_layout() #for neat layout\n"
   ]
  },
  {
   "cell_type": "code",
   "execution_count": 148,
   "metadata": {},
   "outputs": [
    {
     "name": "stdout",
     "output_type": "stream",
     "text": [
      "actual 0.7\n",
      "scaled 0.7\n"
     ]
    }
   ],
   "source": [
    "# testing to see the result diffrence with scaling and without scaling\n",
    "\n",
    "from sklearn.linear_model import LogisticRegression\n",
    "\n",
    "lr = LogisticRegression()\n",
    "lr_scaled = LogisticRegression()\n",
    "\n",
    "lr.fit(x_train,y_train)\n",
    "lr_scaled.fit(x_train_scaled,y_train)\n",
    "y_pred =lr.predict(x_test)\n",
    "y_pred_scaled = lr_scaled.predict(x_test_scaled)\n",
    "\n",
    "from sklearn.metrics import accuracy_score\n",
    "print(\"actual\",accuracy_score(y_test,y_pred))\n",
    "print(\"scaled\",accuracy_score(y_test,y_pred_scaled))"
   ]
  },
  {
   "cell_type": "code",
   "execution_count": null,
   "metadata": {},
   "outputs": [
    {
     "name": "stdout",
     "output_type": "stream",
     "text": [
      "actual 0.7\n",
      "scaled 0.7\n"
     ]
    }
   ],
   "source": [
    "# scaling through desicion tree \n",
    "'''\n",
    "from sklearn.tree import DecisionTreeClassifier\n",
    "\n",
    "dt = DecisionTreeClassifier()\n",
    "dt_scaled = DecisionTreeClassifier()\n",
    "\n",
    "dt.fit(x_train,y_train)\n",
    "dt_scaled.fit(x_train_scaled,y_train)\n",
    "y_pred =dt.predict(x_test)\n",
    "y_pred_scaled = dt_scaled.predict(x_test_scaled)\n",
    "\n",
    "from sklearn.metrics import accuracy_score\n",
    "print(\"actual\",accuracy_score(y_test,y_pred))\n",
    "print(\"scaled\",accuracy_score(y_test,y_pred_scaled))\n",
    "\n",
    "'''"
   ]
  },
  {
   "cell_type": "code",
   "execution_count": null,
   "metadata": {},
   "outputs": [],
   "source": []
  }
 ],
 "metadata": {
  "kernelspec": {
   "display_name": "Python 3",
   "language": "python",
   "name": "python3"
  },
  "language_info": {
   "codemirror_mode": {
    "name": "ipython",
    "version": 3
   },
   "file_extension": ".py",
   "mimetype": "text/x-python",
   "name": "python",
   "nbconvert_exporter": "python",
   "pygments_lexer": "ipython3",
   "version": "3.12.5"
  }
 },
 "nbformat": 4,
 "nbformat_minor": 2
}
