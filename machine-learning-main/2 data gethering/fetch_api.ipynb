{
 "cells": [
  {
   "cell_type": "code",
   "execution_count": 28,
   "metadata": {},
   "outputs": [],
   "source": [
    "import pandas as pd\n",
    "import requests\n"
   ]
  },
  {
   "cell_type": "code",
   "execution_count": 53,
   "metadata": {},
   "outputs": [
    {
     "data": {
      "text/plain": [
       "<Response [200]>"
      ]
     },
     "execution_count": 53,
     "metadata": {},
     "output_type": "execute_result"
    }
   ],
   "source": [
    "import requests\n",
    "\n",
    "url = \"https://imdb-top-100-movies.p.rapidapi.com/\"\n",
    "\n",
    "headers = {\n",
    "\t\"x-rapidapi-key\": \"a61f8f6243msh165b6f8388a0253p1bbb48jsn87e0f67fa819\",\n",
    "\t\"x-rapidapi-host\": \"imdb-top-100-movies.p.rapidapi.com\"\n",
    "}\n",
    "\n",
    "response = requests.get(url, headers=headers)\n",
    "\n",
    "response"
   ]
  },
  {
   "cell_type": "code",
   "execution_count": 66,
   "metadata": {},
   "outputs": [
    {
     "data": {
      "text/html": [
       "<div>\n",
       "<style scoped>\n",
       "    .dataframe tbody tr th:only-of-type {\n",
       "        vertical-align: middle;\n",
       "    }\n",
       "\n",
       "    .dataframe tbody tr th {\n",
       "        vertical-align: top;\n",
       "    }\n",
       "\n",
       "    .dataframe thead th {\n",
       "        text-align: right;\n",
       "    }\n",
       "</style>\n",
       "<table border=\"1\" class=\"dataframe\">\n",
       "  <thead>\n",
       "    <tr style=\"text-align: right;\">\n",
       "      <th></th>\n",
       "      <th>rank</th>\n",
       "      <th>title</th>\n",
       "      <th>description</th>\n",
       "      <th>genre</th>\n",
       "      <th>rating</th>\n",
       "      <th>year</th>\n",
       "    </tr>\n",
       "  </thead>\n",
       "  <tbody>\n",
       "    <tr>\n",
       "      <th>0</th>\n",
       "      <td>1</td>\n",
       "      <td>The Shawshank Redemption</td>\n",
       "      <td>Two imprisoned men bond over a number of years...</td>\n",
       "      <td>[Drama]</td>\n",
       "      <td>9.3</td>\n",
       "      <td>1994</td>\n",
       "    </tr>\n",
       "    <tr>\n",
       "      <th>1</th>\n",
       "      <td>2</td>\n",
       "      <td>The Godfather</td>\n",
       "      <td>The aging patriarch of an organized crime dyna...</td>\n",
       "      <td>[Crime, Drama]</td>\n",
       "      <td>9.2</td>\n",
       "      <td>1972</td>\n",
       "    </tr>\n",
       "    <tr>\n",
       "      <th>2</th>\n",
       "      <td>3</td>\n",
       "      <td>The Dark Knight</td>\n",
       "      <td>When the menace known as the Joker wreaks havo...</td>\n",
       "      <td>[Action, Crime, Drama]</td>\n",
       "      <td>9.0</td>\n",
       "      <td>2008</td>\n",
       "    </tr>\n",
       "    <tr>\n",
       "      <th>3</th>\n",
       "      <td>4</td>\n",
       "      <td>The Godfather Part II</td>\n",
       "      <td>The early life and career of Vito Corleone in ...</td>\n",
       "      <td>[Crime, Drama]</td>\n",
       "      <td>9.0</td>\n",
       "      <td>1974</td>\n",
       "    </tr>\n",
       "    <tr>\n",
       "      <th>4</th>\n",
       "      <td>5</td>\n",
       "      <td>12 Angry Men</td>\n",
       "      <td>The jury in a New York City murder trial is fr...</td>\n",
       "      <td>[Crime, Drama]</td>\n",
       "      <td>9.0</td>\n",
       "      <td>1957</td>\n",
       "    </tr>\n",
       "  </tbody>\n",
       "</table>\n",
       "</div>"
      ],
      "text/plain": [
       "   rank                     title  \\\n",
       "0     1  The Shawshank Redemption   \n",
       "1     2             The Godfather   \n",
       "2     3           The Dark Knight   \n",
       "3     4     The Godfather Part II   \n",
       "4     5              12 Angry Men   \n",
       "\n",
       "                                         description                   genre  \\\n",
       "0  Two imprisoned men bond over a number of years...                 [Drama]   \n",
       "1  The aging patriarch of an organized crime dyna...          [Crime, Drama]   \n",
       "2  When the menace known as the Joker wreaks havo...  [Action, Crime, Drama]   \n",
       "3  The early life and career of Vito Corleone in ...          [Crime, Drama]   \n",
       "4  The jury in a New York City murder trial is fr...          [Crime, Drama]   \n",
       "\n",
       "  rating  year  \n",
       "0    9.3  1994  \n",
       "1    9.2  1972  \n",
       "2    9.0  2008  \n",
       "3    9.0  1974  \n",
       "4    9.0  1957  "
      ]
     },
     "execution_count": 66,
     "metadata": {},
     "output_type": "execute_result"
    }
   ],
   "source": [
    "#response.json()\n",
    "dt = pd.DataFrame(response.json())[['rank','title','description','genre','rating','year']]\n",
    "\n",
    "dt.head()\n"
   ]
  },
  {
   "cell_type": "code",
   "execution_count": 67,
   "metadata": {},
   "outputs": [
    {
     "data": {
      "text/plain": [
       "(100, 6)"
      ]
     },
     "execution_count": 67,
     "metadata": {},
     "output_type": "execute_result"
    }
   ],
   "source": [
    "dt.shape"
   ]
  },
  {
   "cell_type": "code",
   "execution_count": 68,
   "metadata": {},
   "outputs": [],
   "source": [
    "dt.to_csv('topmovies.csv')"
   ]
  }
 ],
 "metadata": {
  "kernelspec": {
   "display_name": "Python 3",
   "language": "python",
   "name": "python3"
  },
  "language_info": {
   "codemirror_mode": {
    "name": "ipython",
    "version": 3
   },
   "file_extension": ".py",
   "mimetype": "text/x-python",
   "name": "python",
   "nbconvert_exporter": "python",
   "pygments_lexer": "ipython3",
   "version": "3.12.5"
  }
 },
 "nbformat": 4,
 "nbformat_minor": 2
}
