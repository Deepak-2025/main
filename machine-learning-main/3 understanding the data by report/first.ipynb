{
 "cells": [
  {
   "cell_type": "code",
   "execution_count": 1,
   "metadata": {},
   "outputs": [],
   "source": [
    "import pandas as pd"
   ]
  },
  {
   "cell_type": "code",
   "execution_count": 4,
   "metadata": {},
   "outputs": [
    {
     "data": {
      "text/plain": [
       "(5283, 11)"
      ]
     },
     "execution_count": 4,
     "metadata": {},
     "output_type": "execute_result"
    }
   ],
   "source": [
    "path = 'Netflix.csv'\n",
    "data = pd.read_csv(path)\n",
    "\n",
    "data.shape"
   ]
  },
  {
   "cell_type": "code",
   "execution_count": 10,
   "metadata": {},
   "outputs": [
    {
     "data": {
      "text/html": [
       "<div>\n",
       "<style scoped>\n",
       "    .dataframe tbody tr th:only-of-type {\n",
       "        vertical-align: middle;\n",
       "    }\n",
       "\n",
       "    .dataframe tbody tr th {\n",
       "        vertical-align: top;\n",
       "    }\n",
       "\n",
       "    .dataframe thead th {\n",
       "        text-align: right;\n",
       "    }\n",
       "</style>\n",
       "<table border=\"1\" class=\"dataframe\">\n",
       "  <thead>\n",
       "    <tr style=\"text-align: right;\">\n",
       "      <th></th>\n",
       "      <th>index</th>\n",
       "      <th>id</th>\n",
       "      <th>title</th>\n",
       "      <th>type</th>\n",
       "      <th>description</th>\n",
       "      <th>release_year</th>\n",
       "      <th>age_certification</th>\n",
       "      <th>runtime</th>\n",
       "      <th>imdb_id</th>\n",
       "      <th>imdb_score</th>\n",
       "      <th>imdb_votes</th>\n",
       "    </tr>\n",
       "  </thead>\n",
       "  <tbody>\n",
       "    <tr>\n",
       "      <th>0</th>\n",
       "      <td>0</td>\n",
       "      <td>tm84618</td>\n",
       "      <td>Taxi Driver</td>\n",
       "      <td>MOVIE</td>\n",
       "      <td>A mentally unstable Vietnam War veteran works ...</td>\n",
       "      <td>1976</td>\n",
       "      <td>R</td>\n",
       "      <td>113</td>\n",
       "      <td>tt0075314</td>\n",
       "      <td>8.3</td>\n",
       "      <td>795222.0</td>\n",
       "    </tr>\n",
       "    <tr>\n",
       "      <th>1</th>\n",
       "      <td>1</td>\n",
       "      <td>tm127384</td>\n",
       "      <td>Monty Python and the Holy Grail</td>\n",
       "      <td>MOVIE</td>\n",
       "      <td>King Arthur, accompanied by his squire, recrui...</td>\n",
       "      <td>1975</td>\n",
       "      <td>PG</td>\n",
       "      <td>91</td>\n",
       "      <td>tt0071853</td>\n",
       "      <td>8.2</td>\n",
       "      <td>530877.0</td>\n",
       "    </tr>\n",
       "    <tr>\n",
       "      <th>2</th>\n",
       "      <td>2</td>\n",
       "      <td>tm70993</td>\n",
       "      <td>Life of Brian</td>\n",
       "      <td>MOVIE</td>\n",
       "      <td>Brian Cohen is an average young Jewish man, bu...</td>\n",
       "      <td>1979</td>\n",
       "      <td>R</td>\n",
       "      <td>94</td>\n",
       "      <td>tt0079470</td>\n",
       "      <td>8.0</td>\n",
       "      <td>392419.0</td>\n",
       "    </tr>\n",
       "    <tr>\n",
       "      <th>3</th>\n",
       "      <td>3</td>\n",
       "      <td>tm190788</td>\n",
       "      <td>The Exorcist</td>\n",
       "      <td>MOVIE</td>\n",
       "      <td>12-year-old Regan MacNeil begins to adapt an e...</td>\n",
       "      <td>1973</td>\n",
       "      <td>R</td>\n",
       "      <td>133</td>\n",
       "      <td>tt0070047</td>\n",
       "      <td>8.1</td>\n",
       "      <td>391942.0</td>\n",
       "    </tr>\n",
       "    <tr>\n",
       "      <th>4</th>\n",
       "      <td>4</td>\n",
       "      <td>ts22164</td>\n",
       "      <td>Monty Python's Flying Circus</td>\n",
       "      <td>SHOW</td>\n",
       "      <td>A British sketch comedy series with the shows ...</td>\n",
       "      <td>1969</td>\n",
       "      <td>TV-14</td>\n",
       "      <td>30</td>\n",
       "      <td>tt0063929</td>\n",
       "      <td>8.8</td>\n",
       "      <td>72895.0</td>\n",
       "    </tr>\n",
       "  </tbody>\n",
       "</table>\n",
       "</div>"
      ],
      "text/plain": [
       "   index        id                            title   type  \\\n",
       "0      0   tm84618                      Taxi Driver  MOVIE   \n",
       "1      1  tm127384  Monty Python and the Holy Grail  MOVIE   \n",
       "2      2   tm70993                    Life of Brian  MOVIE   \n",
       "3      3  tm190788                     The Exorcist  MOVIE   \n",
       "4      4   ts22164     Monty Python's Flying Circus   SHOW   \n",
       "\n",
       "                                         description  release_year  \\\n",
       "0  A mentally unstable Vietnam War veteran works ...          1976   \n",
       "1  King Arthur, accompanied by his squire, recrui...          1975   \n",
       "2  Brian Cohen is an average young Jewish man, bu...          1979   \n",
       "3  12-year-old Regan MacNeil begins to adapt an e...          1973   \n",
       "4  A British sketch comedy series with the shows ...          1969   \n",
       "\n",
       "  age_certification  runtime    imdb_id  imdb_score  imdb_votes  \n",
       "0                 R      113  tt0075314         8.3    795222.0  \n",
       "1                PG       91  tt0071853         8.2    530877.0  \n",
       "2                 R       94  tt0079470         8.0    392419.0  \n",
       "3                 R      133  tt0070047         8.1    391942.0  \n",
       "4             TV-14       30  tt0063929         8.8     72895.0  "
      ]
     },
     "execution_count": 10,
     "metadata": {},
     "output_type": "execute_result"
    }
   ],
   "source": [
    "data.head()\n",
    "# to see the data randomly\n",
    "#data.sample(5)"
   ]
  },
  {
   "cell_type": "code",
   "execution_count": 12,
   "metadata": {},
   "outputs": [
    {
     "name": "stdout",
     "output_type": "stream",
     "text": [
      "<class 'pandas.core.frame.DataFrame'>\n",
      "RangeIndex: 5283 entries, 0 to 5282\n",
      "Data columns (total 11 columns):\n",
      " #   Column             Non-Null Count  Dtype  \n",
      "---  ------             --------------  -----  \n",
      " 0   index              5283 non-null   int64  \n",
      " 1   id                 5283 non-null   object \n",
      " 2   title              5283 non-null   object \n",
      " 3   type               5283 non-null   object \n",
      " 4   description        5278 non-null   object \n",
      " 5   release_year       5283 non-null   int64  \n",
      " 6   age_certification  2998 non-null   object \n",
      " 7   runtime            5283 non-null   int64  \n",
      " 8   imdb_id            5283 non-null   object \n",
      " 9   imdb_score         5283 non-null   float64\n",
      " 10  imdb_votes         5267 non-null   float64\n",
      "dtypes: float64(2), int64(3), object(6)\n",
      "memory usage: 454.1+ KB\n"
     ]
    }
   ],
   "source": [
    "data.info()"
   ]
  },
  {
   "cell_type": "code",
   "execution_count": 15,
   "metadata": {},
   "outputs": [
    {
     "data": {
      "text/plain": [
       "index                   0\n",
       "id                      0\n",
       "title                   0\n",
       "type                    0\n",
       "description             5\n",
       "release_year            0\n",
       "age_certification    2285\n",
       "runtime                 0\n",
       "imdb_id                 0\n",
       "imdb_score              0\n",
       "imdb_votes             16\n",
       "dtype: int64"
      ]
     },
     "execution_count": 15,
     "metadata": {},
     "output_type": "execute_result"
    }
   ],
   "source": [
    "#to see the missing values in data\n",
    "data.isnull().sum()"
   ]
  },
  {
   "cell_type": "code",
   "execution_count": 18,
   "metadata": {},
   "outputs": [
    {
     "data": {
      "text/plain": [
       "0"
      ]
     },
     "execution_count": 18,
     "metadata": {},
     "output_type": "execute_result"
    }
   ],
   "source": [
    "# to remove duplicate values\n",
    "data.duplicated().sum()"
   ]
  }
 ],
 "metadata": {
  "kernelspec": {
   "display_name": "Python 3",
   "language": "python",
   "name": "python3"
  },
  "language_info": {
   "codemirror_mode": {
    "name": "ipython",
    "version": 3
   },
   "file_extension": ".py",
   "mimetype": "text/x-python",
   "name": "python",
   "nbconvert_exporter": "python",
   "pygments_lexer": "ipython3",
   "version": "3.12.5"
  }
 },
 "nbformat": 4,
 "nbformat_minor": 2
}
